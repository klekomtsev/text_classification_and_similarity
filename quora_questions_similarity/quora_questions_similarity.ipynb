{
 "cells": [
  {
   "cell_type": "markdown",
   "metadata": {
    "colab_type": "text",
    "id": "kbMxSceU1XGe"
   },
   "source": [
    "# Quora questions similarity. "
   ]
  },
  {
   "attachments": {},
   "cell_type": "markdown",
   "metadata": {
    "colab_type": "text",
    "id": "U2AewhitWbMN"
   },
   "source": [
    "**Objective:** identify duplicate question pairs.\n",
    "\n",
    "**Methods:** one-shot learning using twin neural networks with time distributed and LSTM layers. Questions embeddings were done using pre-trained GloVe embeddings. \n",
    "\n",
    "**Dataset info:** \n",
    "\n",
    "Total number of questions pairs: 404,278\n",
    "\n",
    "Portion of not duplicate reviews:  0.63\n",
    "\n",
    "Portion of duplicate reviews:  0.37\n",
    "\n",
    "Maximum question length, question 1: 125\n",
    "\n",
    "Maximum question length, question 2: 237\n",
    "\n",
    "Median number of words per question: 10\n",
    "\n",
    "Vocabulary size: 232531 words\n",
    "\n",
    "**Similarity metrics:**\n",
    "\n",
    "- Jaccard similarity, based on characters and words. \n",
    "\n",
    "- Cosine similarity between questions, based on words.\n",
    "\n",
    "The Jaccard similarity index compares members for two sets to see which members are shared and which are distinct. It's a measure of similarity for the two sets of data, with a range from 0% to 100%. \n",
    "\n",
    "Cosine similarity is a measure of similarity between two non-zero vectors of an inner product space that measures the cosine of the angle between them.\n",
    "\n",
    "**Preprocessing workflow.**\n",
    "\n",
    "- Tokenize dataset.\n",
    "\n",
    "- Limit the number of words considered per question to a certain number (20 in this notebook).\n",
    "\n",
    "- Generate an embedding matrix using pre-trained embeddings using GloVe with 50 dimensions per word.\n",
    "\n",
    "**One-shot learning using a twin neural network with time distributed layers, and cosine and Jaccard similarity.**\n",
    "\n",
    "- Add embedding layers and then time distributed layers for each question. \n",
    "\n",
    "The time distributed layer applies a dense layer to every temporal slice of an input. The input should be at least 3D, and the dimension of index one will be considered to be the temporal dimension. Consider a batch of 32 samples, where each sample is a sequence of 10 vectors of 16 dimensions. The batch input shape of the layer is then (32, 10, 16), and the input_shape, not including the dimension of the sample, is (10, 16).\n",
    "\n",
    "- Calculate similarity features: cosine similarity on words, Jaccard similarity on characters and words. \n",
    "\n",
    "- Add features equivalent to finding the most similar words in question pairs (max value along the embedding vector in the tensor for each question) and average similarity of question pairs (sum of values along the dimension in the tensor corresponding to the sequence of words in each question).\n",
    "\n",
    "**One-shot learning using a twin neural network with with shared LSTM and Manhattan similarity.**\n",
    "\n",
    "- Add LSTM layers, because it is a twin network, both inputs (questions) share the same LSTM.\n",
    "\n",
    "- Combine the LSTM layers output using the Manhattan distance metric and add it to precalculated similarity features. \n",
    "\n",
    "Manhattan distance: \n",
    "\n",
    "The distance between two points measured along axes at right angles. In a plane with p1 at (x1, y1) and p2 at (x2, y2), it is |x1 - x2| + |y1 - y2|.\n",
    "\n",
    "**Perfomance comparison for the two networks on the test data:**\n",
    "\n",
    "| **Time distributed** |precision | recall  | f1-score |\n",
    "|------------------|----------|---------|----------|\n",
    "|not duplicate     |   0.82   |  0.84   |  0.83    |\n",
    "|   duplicate      |   0.72   |  0.68   |  0.70    |\n",
    "|max validation AUC|          |         |  0.85    |\n",
    "\n",
    "\n",
    "| **LSTM** |precision | recall  | f1-score |\n",
    "|------------------|----------|---------|----------|\n",
    "|not duplicate     |   0.81   |  0.87   |  0.84    |\n",
    "|   duplicate      |   0.75   |  0.65   |  0.69    |\n",
    "|max validation AUC|          |         |  0.88    |\n",
    "\n",
    "Confusion matrix for time distributed network:\n",
    "\n",
    " \n",
    "| |not duplicate (predicted) | duplicate (predicted)| \n",
    "|--------------------|----------|---------|\n",
    "|not duplicate (true)|   21410  |  3972   |\n",
    "|   duplicate (true) |   4804   |  10139  |\n",
    "\n",
    "Confusion matrix for LSTM network:\n",
    "\n",
    "| |not duplicate (predicted) | duplicate (predicted)| \n",
    "|--------------------|----------|---------|\n",
    "|not duplicate (true)|   22111  |  3271   |\n",
    "|   duplicate (true) |   5278   |  9665   |\n",
    "\n",
    "**Conclusions:**\n",
    "\n",
    "- The twin neural networks with time distributed layers and LSTM layers were applied on the Quora Question Pairs dataset. \n",
    "\n",
    "- Jaccard, cosine and Manhattan similarity metrics explored. \n",
    "\n",
    "- Training the LSTM network was more computationally expensive, compared to the time distributed network, and resulted in moderate increase of precision by 0.03 for duplicate samples (~6 hours for LSTM on google colab notebook with GPU for 10 epochs, compared to ~30 min for time distributed).\n",
    "\n",
    "Precision can be interpreted as: if I take a positive prediction example, what is the probability that it is indeed a positive example."
   ]
  },
  {
   "cell_type": "code",
   "execution_count": 0,
   "metadata": {
    "colab": {},
    "colab_type": "code",
    "id": "eyFW8WeBQ7zt"
   },
   "outputs": [],
   "source": [
    "%matplotlib inline\n",
    "%tensorflow_version 1.x\n",
    "from __future__ import print_function\n",
    "import numpy as np\n",
    "import pandas as pd\n",
    "import datetime, time, json\n",
    "import matplotlib.pyplot as plt\n",
    "import seaborn as sns\n",
    "from collections import Counter\n",
    "import re\n",
    "import math\n",
    "from keras.models import Model\n",
    "from keras.layers import Input, TimeDistributed, Dense, Lambda, concatenate\n",
    "from keras.layers import Dropout, BatchNormalization\n",
    "from keras.layers.embeddings import Embedding\n",
    "from keras.regularizers import l2\n",
    "from keras.callbacks import Callback, ModelCheckpoint\n",
    "from keras import backend as K\n",
    "from sklearn.model_selection import train_test_split\n",
    "from keras.preprocessing.text import Tokenizer\n",
    "from keras.preprocessing.sequence import pad_sequences\n",
    "import tensorflow as tf \n",
    "from sklearn.metrics import roc_auc_score\n",
    "from keras.preprocessing.text import Tokenizer\n",
    "from sklearn.metrics import confusion_matrix\n",
    "from sklearn.metrics import classification_report\n",
    "import functools\n",
    "from keras import backend as K\n",
    "import tensorflow as tf\n",
    "import warnings\n",
    "warnings.filterwarnings('ignore')"
   ]
  },
  {
   "cell_type": "code",
   "execution_count": 3,
   "metadata": {
    "colab": {
     "base_uri": "https://localhost:8080/",
     "height": 34
    },
    "colab_type": "code",
    "executionInfo": {
     "elapsed": 903,
     "status": "ok",
     "timestamp": 1586465424527,
     "user": {
      "displayName": "Konstantin Lekomtsev",
      "photoUrl": "",
      "userId": "02021487482276961340"
     },
     "user_tz": 420
    },
    "id": "RamfrDWXQ70B",
    "outputId": "762c6250-da8b-4d0a-f3bb-a9a11489f39b"
   },
   "outputs": [
    {
     "name": "stdout",
     "output_type": "stream",
     "text": [
      "1.15.2\n"
     ]
    }
   ],
   "source": [
    "print(tf.__version__)"
   ]
  },
  {
   "cell_type": "code",
   "execution_count": 0,
   "metadata": {
    "colab": {},
    "colab_type": "code",
    "id": "u--s98ZsFFEw"
   },
   "outputs": [],
   "source": [
    "def as_keras_metric(method):\n",
    "    @functools.wraps(method)\n",
    "    def wrapper(self, args, **kwargs):\n",
    "        ''' Wrapper for turning tensorflow metrics into keras metrics '''\n",
    "        value, update_op = method(self, args, **kwargs)\n",
    "        K.get_session().run(tf.local_variables_initializer())\n",
    "        with tf.control_dependencies([update_op]):\n",
    "            value = tf.identity(value)\n",
    "        return value\n",
    "    return wrapper"
   ]
  },
  {
   "cell_type": "code",
   "execution_count": 0,
   "metadata": {
    "colab": {},
    "colab_type": "code",
    "id": "p3i_QDTiDuN_"
   },
   "outputs": [],
   "source": [
    "def classification_and_confusion_report(actual_label,predicted_label,threshold):\n",
    "    ''' Compute confusion matrix and classification report for \n",
    "    given actual and predicted labels. '''\n",
    "    predicted_label = np.where(predicted_label>threshold,1,0)\n",
    "    report=classification_report(actual_label,predicted_label)\n",
    "    cm = confusion_matrix(actual_label,predicted_label)\n",
    "    print(cm)\n",
    "    print(report)"
   ]
  },
  {
   "cell_type": "markdown",
   "metadata": {
    "colab_type": "text",
    "id": "qqINmZCJ2If-"
   },
   "source": [
    "# Import dataset."
   ]
  },
  {
   "cell_type": "code",
   "execution_count": 0,
   "metadata": {
    "colab": {},
    "colab_type": "code",
    "id": "YnjtKfR6RTA_"
   },
   "outputs": [],
   "source": [
    "from google.colab import drive\n",
    "drive.mount('/content/gdrive')"
   ]
  },
  {
   "cell_type": "code",
   "execution_count": 0,
   "metadata": {
    "colab": {},
    "colab_type": "code",
    "id": "SK3iHi6IQ70Q"
   },
   "outputs": [],
   "source": [
    "question_pairs = pd.read_csv('/content/gdrive/My Drive/Colab Notebooks/capstone2/quora_questions_similarity/train.csv')\n",
    "question_pairs.dropna(axis=0,\n",
    "                      inplace=True)"
   ]
  },
  {
   "cell_type": "code",
   "execution_count": 8,
   "metadata": {
    "colab": {
     "base_uri": "https://localhost:8080/",
     "height": 142
    },
    "colab_type": "code",
    "executionInfo": {
     "elapsed": 963,
     "status": "ok",
     "timestamp": 1586465471165,
     "user": {
      "displayName": "Konstantin Lekomtsev",
      "photoUrl": "",
      "userId": "02021487482276961340"
     },
     "user_tz": 420
    },
    "id": "WAdBemXjEz5w",
    "outputId": "a0f56387-d52e-440b-e7a9-560d09318228"
   },
   "outputs": [
    {
     "data": {
      "text/html": [
       "<div>\n",
       "<style scoped>\n",
       "    .dataframe tbody tr th:only-of-type {\n",
       "        vertical-align: middle;\n",
       "    }\n",
       "\n",
       "    .dataframe tbody tr th {\n",
       "        vertical-align: top;\n",
       "    }\n",
       "\n",
       "    .dataframe thead th {\n",
       "        text-align: right;\n",
       "    }\n",
       "</style>\n",
       "<table border=\"1\" class=\"dataframe\">\n",
       "  <thead>\n",
       "    <tr style=\"text-align: right;\">\n",
       "      <th></th>\n",
       "      <th>id</th>\n",
       "      <th>qid1</th>\n",
       "      <th>qid2</th>\n",
       "      <th>question1</th>\n",
       "      <th>question2</th>\n",
       "      <th>is_duplicate</th>\n",
       "    </tr>\n",
       "  </thead>\n",
       "  <tbody>\n",
       "    <tr>\n",
       "      <th>0</th>\n",
       "      <td>0</td>\n",
       "      <td>1</td>\n",
       "      <td>2</td>\n",
       "      <td>What is the step by step guide to invest in sh...</td>\n",
       "      <td>What is the step by step guide to invest in sh...</td>\n",
       "      <td>0</td>\n",
       "    </tr>\n",
       "    <tr>\n",
       "      <th>1</th>\n",
       "      <td>1</td>\n",
       "      <td>3</td>\n",
       "      <td>4</td>\n",
       "      <td>What is the story of Kohinoor (Koh-i-Noor) Dia...</td>\n",
       "      <td>What would happen if the Indian government sto...</td>\n",
       "      <td>0</td>\n",
       "    </tr>\n",
       "    <tr>\n",
       "      <th>2</th>\n",
       "      <td>2</td>\n",
       "      <td>5</td>\n",
       "      <td>6</td>\n",
       "      <td>How can I increase the speed of my internet co...</td>\n",
       "      <td>How can Internet speed be increased by hacking...</td>\n",
       "      <td>0</td>\n",
       "    </tr>\n",
       "  </tbody>\n",
       "</table>\n",
       "</div>"
      ],
      "text/plain": [
       "   id  qid1  ...                                          question2 is_duplicate\n",
       "0   0     1  ...  What is the step by step guide to invest in sh...            0\n",
       "1   1     3  ...  What would happen if the Indian government sto...            0\n",
       "2   2     5  ...  How can Internet speed be increased by hacking...            0\n",
       "\n",
       "[3 rows x 6 columns]"
      ]
     },
     "execution_count": 8,
     "metadata": {
      "tags": []
     },
     "output_type": "execute_result"
    }
   ],
   "source": [
    "question_pairs.head(3)"
   ]
  },
  {
   "cell_type": "markdown",
   "metadata": {
    "colab_type": "text",
    "id": "lASKPkZm1uhZ"
   },
   "source": [
    "# Parameters."
   ]
  },
  {
   "cell_type": "code",
   "execution_count": 0,
   "metadata": {
    "colab": {},
    "colab_type": "code",
    "id": "b2PaLl8KFs7j"
   },
   "outputs": [],
   "source": [
    "MAX_SEQUENCE_LENGTH=20\n",
    "                         \n",
    "NB_WORDS = 1500          \n",
    "EMBEDDING_DIM = 50\n",
    "VALIDATION_SPLIT = 0.1\n",
    "TEST_SPLIT = 0.1\n",
    "NB_EPOCHS = 10\n",
    "DROPOUT = 0.1\n",
    "BATCH_SIZE = 32"
   ]
  },
  {
   "cell_type": "markdown",
   "metadata": {
    "colab_type": "text",
    "id": "vSx7kFMv2syy"
   },
   "source": [
    "# Get basic informaion about the dataset."
   ]
  },
  {
   "cell_type": "code",
   "execution_count": 10,
   "metadata": {
    "colab": {
     "base_uri": "https://localhost:8080/",
     "height": 51
    },
    "colab_type": "code",
    "executionInfo": {
     "elapsed": 987,
     "status": "ok",
     "timestamp": 1586465485071,
     "user": {
      "displayName": "Konstantin Lekomtsev",
      "photoUrl": "",
      "userId": "02021487482276961340"
     },
     "user_tz": 420
    },
    "id": "fnr6Kd70THEl",
    "outputId": "fa8f59de-b1e4-4acc-95a3-86cf57c95257"
   },
   "outputs": [
    {
     "name": "stdout",
     "output_type": "stream",
     "text": [
      "Portion of not duplicate reviews:  0.630799407351708\n",
      "Portion of duplicate reviews:  0.3692005926482919\n"
     ]
    }
   ],
   "source": [
    "print('Portion of not duplicate reviews: ', \n",
    "      float(question_pairs.is_duplicate.value_counts()[0])/question_pairs.shape[0])\n",
    "print('Portion of duplicate reviews: ', \n",
    "      float(question_pairs.is_duplicate.value_counts()[1])/question_pairs.shape[0])"
   ]
  },
  {
   "cell_type": "code",
   "execution_count": 11,
   "metadata": {
    "colab": {
     "base_uri": "https://localhost:8080/",
     "height": 34
    },
    "colab_type": "code",
    "executionInfo": {
     "elapsed": 453,
     "status": "ok",
     "timestamp": 1586465485482,
     "user": {
      "displayName": "Konstantin Lekomtsev",
      "photoUrl": "",
      "userId": "02021487482276961340"
     },
     "user_tz": 420
    },
    "id": "_xqKVUNZd0Zw",
    "outputId": "3b35581e-5c03-4a67-ecf7-cadffcedbd6e"
   },
   "outputs": [
    {
     "name": "stdout",
     "output_type": "stream",
     "text": [
      "Total number of entries:  404287\n"
     ]
    }
   ],
   "source": [
    "print('Total number of entries: ', question_pairs.shape[0])"
   ]
  },
  {
   "cell_type": "code",
   "execution_count": 0,
   "metadata": {
    "colab": {},
    "colab_type": "code",
    "id": "AaqK5AQIFCer"
   },
   "outputs": [],
   "source": [
    "question1_length = [len(q.split()) for q in question_pairs.question1]\n",
    "question2_length = [len(q.split()) for q in question_pairs.question2]\n",
    "\n",
    "max_question1_length = max(question1_length)\n",
    "max_question2_length = max(question2_length)"
   ]
  },
  {
   "cell_type": "code",
   "execution_count": 13,
   "metadata": {
    "colab": {
     "base_uri": "https://localhost:8080/",
     "height": 51
    },
    "colab_type": "code",
    "executionInfo": {
     "elapsed": 510,
     "status": "ok",
     "timestamp": 1586465490708,
     "user": {
      "displayName": "Konstantin Lekomtsev",
      "photoUrl": "",
      "userId": "02021487482276961340"
     },
     "user_tz": 420
    },
    "id": "WWsexTb8F8pt",
    "outputId": "d3018e83-91e3-4c2f-de21-4fbf0f5a4948"
   },
   "outputs": [
    {
     "name": "stdout",
     "output_type": "stream",
     "text": [
      "Maximum question length in question 1: 125\n",
      "Maximum question length in question 2: 237\n"
     ]
    }
   ],
   "source": [
    "print('Maximum question length in question 1:', \n",
    "      max_question1_length)\n",
    "print('Maximum question length in question 2:',\n",
    "      max_question2_length)"
   ]
  },
  {
   "cell_type": "code",
   "execution_count": 15,
   "metadata": {
    "colab": {
     "base_uri": "https://localhost:8080/",
     "height": 372
    },
    "colab_type": "code",
    "executionInfo": {
     "elapsed": 1762,
     "status": "ok",
     "timestamp": 1586465513369,
     "user": {
      "displayName": "Konstantin Lekomtsev",
      "photoUrl": "",
      "userId": "02021487482276961340"
     },
     "user_tz": 420
    },
    "id": "gNfAE80hU2bB",
    "outputId": "e42a9a55-5ca0-4a34-b916-ac53a53b0200"
   },
   "outputs": [
    {
     "data": {
      "image/png": "[encoded data removed]",
      "text/plain": [
       "<Figure size 504x360 with 1 Axes>"
      ]
     },
     "metadata": {
      "tags": []
     },
     "output_type": "display_data"
    }
   ],
   "source": [
    "sns.set(font_scale=1.5)\n",
    "sns.set_style('white')\n",
    "\n",
    "fig, ax = plt.subplots(figsize=(7, 5))\n",
    "\n",
    "ax = sns.distplot(question1_length,\n",
    "                  kde=True, \n",
    "                  hist = True,\n",
    "                  label = 'Question1')\n",
    "\n",
    "ax = sns.distplot(question2_length,\n",
    "                  kde=True, \n",
    "                  hist = True,\n",
    "                  label = 'Question2')\n",
    "\n",
    "ax.set(xlabel='question length, words', ylabel='PDF', \n",
    "       title = 'Distribution of question lengths')\n",
    "ax.set_xlim(0,60)\n",
    "\n",
    "plt.legend()\n",
    "plt.show()"
   ]
  },
  {
   "cell_type": "code",
   "execution_count": 16,
   "metadata": {
    "colab": {
     "base_uri": "https://localhost:8080/",
     "height": 34
    },
    "colab_type": "code",
    "executionInfo": {
     "elapsed": 4372,
     "status": "ok",
     "timestamp": 1586465522528,
     "user": {
      "displayName": "Konstantin Lekomtsev",
      "photoUrl": "",
      "userId": "02021487482276961340"
     },
     "user_tz": 420
    },
    "id": "l8mllhyRGzvO",
    "outputId": "b09dd0b6-7425-4abc-dc04-abe882e6cc8d"
   },
   "outputs": [
    {
     "name": "stdout",
     "output_type": "stream",
     "text": [
      "Vocabulary size: 232531\n"
     ]
    }
   ],
   "source": [
    "word_counts = Counter()\n",
    "\n",
    "question1 = question_pairs.question1.values.tolist()\n",
    "\n",
    "for q in question_pairs.question1:\n",
    "    words = q.split()\n",
    "    word_counts.update(words)\n",
    "\n",
    "for q in question_pairs.question2:\n",
    "    words = q.split()\n",
    "    word_counts.update(words)\n",
    "    \n",
    "print('Vocabulary size:', len(word_counts))"
   ]
  },
  {
   "cell_type": "markdown",
   "metadata": {
    "colab_type": "text",
    "id": "SVnM8lt_3l8O"
   },
   "source": [
    "# Jaccard and Cosine similarity."
   ]
  },
  {
   "cell_type": "code",
   "execution_count": 0,
   "metadata": {
    "colab": {},
    "colab_type": "code",
    "id": "0e54_rrdG6AS"
   },
   "outputs": [],
   "source": [
    "def match_count(q1,q2):\n",
    "    ''' Returns Jaccard similarity of two datasets. '''\n",
    "    set_1 = set(q1)\n",
    "    set_2 = set(q2)\n",
    "    set_3 = set_1.intersection(set_2)\n",
    "    return len(set_3)/(len(set_1)+len(set_2)-len(set_3))  "
   ]
  },
  {
   "cell_type": "code",
   "execution_count": 0,
   "metadata": {
    "colab": {},
    "colab_type": "code",
    "id": "XSg7tTG2H1S6"
   },
   "outputs": [],
   "source": [
    "# Create two additional columns in the question_pairs dataframe: \n",
    "# character match count and word match count using match_count(q1,q2) function \n",
    "# defined above.\n",
    "question_pairs.question1 = question_pairs.question1.str.lower()\n",
    "question_pairs.question2 = question_pairs.question2.str.lower()\n",
    "\n",
    "question_pairs['char_match_count']= \\\n",
    "    question_pairs.apply(lambda row: match_count(row['question1'],row['question2']),\n",
    "                         axis=1)\n",
    "question_pairs['word_match_count'] = \\\n",
    "    question_pairs.apply(lambda row: match_count(row['question1'].split(),row['question2'].split()),\n",
    "                         axis=1)"
   ]
  },
  {
   "cell_type": "code",
   "execution_count": 0,
   "metadata": {
    "colab": {},
    "colab_type": "code",
    "id": "BW_kAfpmNvWb"
   },
   "outputs": [],
   "source": [
    "def get_cosine(vec1, vec2):\n",
    "    ''' Calculate cosine similarity between two vectors,\n",
    "    each vector is dictionary with key and value word:count.'''\n",
    "    intersection = set(vec1.keys()) & set(vec2.keys())\n",
    "    numerator = sum([vec1[x] * vec2[x] for x in intersection])\n",
    "\n",
    "    sum1 = sum([vec1[x]**2 for x in vec1.keys()])\n",
    "    sum2 = sum([vec2[x]**2 for x in vec2.keys()])\n",
    "    denominator = math.sqrt(sum1) * math.sqrt(sum2)\n",
    "\n",
    "    if not denominator:\n",
    "        return 0.0\n",
    "    else:\n",
    "        return float(numerator) / denominator\n",
    "\n",
    "def text_to_vector(text):\n",
    "    ''' Create counter of all the words.'''\n",
    "    words = re.compile(r'\\w+').findall(text)\n",
    "    return Counter(words)"
   ]
  },
  {
   "cell_type": "code",
   "execution_count": 0,
   "metadata": {
    "colab": {},
    "colab_type": "code",
    "id": "_sMtkh7KRDlM"
   },
   "outputs": [],
   "source": [
    "# Add column containing cosine similarity of question pairs.\n",
    "question_pairs['cosine_similarity']= \\\n",
    "    question_pairs.apply(lambda row: get_cosine(text_to_vector(row['question1']),\n",
    "                                       text_to_vector(row['question2'])), axis=1)"
   ]
  },
  {
   "cell_type": "code",
   "execution_count": 22,
   "metadata": {
    "colab": {
     "base_uri": "https://localhost:8080/",
     "height": 193
    },
    "colab_type": "code",
    "executionInfo": {
     "elapsed": 22833,
     "status": "ok",
     "timestamp": 1586465720166,
     "user": {
      "displayName": "Konstantin Lekomtsev",
      "photoUrl": "",
      "userId": "02021487482276961340"
     },
     "user_tz": 420
    },
    "id": "XEIw04tmRu6u",
    "outputId": "37a20f3b-0287-4fb4-ea6a-57e6fab2475b"
   },
   "outputs": [
    {
     "data": {
      "text/html": [
       "<div>\n",
       "<style scoped>\n",
       "    .dataframe tbody tr th:only-of-type {\n",
       "        vertical-align: middle;\n",
       "    }\n",
       "\n",
       "    .dataframe tbody tr th {\n",
       "        vertical-align: top;\n",
       "    }\n",
       "\n",
       "    .dataframe thead th {\n",
       "        text-align: right;\n",
       "    }\n",
       "</style>\n",
       "<table border=\"1\" class=\"dataframe\">\n",
       "  <thead>\n",
       "    <tr style=\"text-align: right;\">\n",
       "      <th></th>\n",
       "      <th>id</th>\n",
       "      <th>qid1</th>\n",
       "      <th>qid2</th>\n",
       "      <th>question1</th>\n",
       "      <th>question2</th>\n",
       "      <th>is_duplicate</th>\n",
       "      <th>char_match_count</th>\n",
       "      <th>word_match_count</th>\n",
       "      <th>cosine_similarity</th>\n",
       "    </tr>\n",
       "  </thead>\n",
       "  <tbody>\n",
       "    <tr>\n",
       "      <th>0</th>\n",
       "      <td>0</td>\n",
       "      <td>1</td>\n",
       "      <td>2</td>\n",
       "      <td>what is the step by step guide to invest in sh...</td>\n",
       "      <td>what is the step by step guide to invest in sh...</td>\n",
       "      <td>0</td>\n",
       "      <td>1.000000</td>\n",
       "      <td>0.769231</td>\n",
       "      <td>0.944911</td>\n",
       "    </tr>\n",
       "    <tr>\n",
       "      <th>1</th>\n",
       "      <td>1</td>\n",
       "      <td>3</td>\n",
       "      <td>4</td>\n",
       "      <td>what is the story of kohinoor (koh-i-noor) dia...</td>\n",
       "      <td>what would happen if the indian government sto...</td>\n",
       "      <td>0</td>\n",
       "      <td>0.703704</td>\n",
       "      <td>0.250000</td>\n",
       "      <td>0.613572</td>\n",
       "    </tr>\n",
       "    <tr>\n",
       "      <th>2</th>\n",
       "      <td>2</td>\n",
       "      <td>5</td>\n",
       "      <td>6</td>\n",
       "      <td>how can i increase the speed of my internet co...</td>\n",
       "      <td>how can internet speed be increased by hacking...</td>\n",
       "      <td>0</td>\n",
       "      <td>0.750000</td>\n",
       "      <td>0.200000</td>\n",
       "      <td>0.338062</td>\n",
       "    </tr>\n",
       "  </tbody>\n",
       "</table>\n",
       "</div>"
      ],
      "text/plain": [
       "   id  qid1  qid2  ... char_match_count word_match_count  cosine_similarity\n",
       "0   0     1     2  ...         1.000000         0.769231           0.944911\n",
       "1   1     3     4  ...         0.703704         0.250000           0.613572\n",
       "2   2     5     6  ...         0.750000         0.200000           0.338062\n",
       "\n",
       "[3 rows x 9 columns]"
      ]
     },
     "execution_count": 22,
     "metadata": {
      "tags": []
     },
     "output_type": "execute_result"
    }
   ],
   "source": [
    "question_pairs.head(3)"
   ]
  },
  {
   "cell_type": "markdown",
   "metadata": {
    "colab_type": "text",
    "id": "Tn01BtirOpbZ"
   },
   "source": [
    "# Distributions of text similarity metrics."
   ]
  },
  {
   "cell_type": "code",
   "execution_count": 23,
   "metadata": {
    "colab": {
     "base_uri": "https://localhost:8080/",
     "height": 427
    },
    "colab_type": "code",
    "executionInfo": {
     "elapsed": 1107,
     "status": "ok",
     "timestamp": 1586465732042,
     "user": {
      "displayName": "Konstantin Lekomtsev",
      "photoUrl": "",
      "userId": "02021487482276961340"
     },
     "user_tz": 420
    },
    "id": "cQH41rCAWR_-",
    "outputId": "dbd2c512-73af-4d8d-b7f6-abf06f2cb39a"
   },
   "outputs": [
    {
     "data": {
      "image/png": "[encoded data removed]",
      "text/plain": [
       "<Figure size 648x432 with 1 Axes>"
      ]
     },
     "metadata": {
      "tags": []
     },
     "output_type": "display_data"
    }
   ],
   "source": [
    "sns.set(font_scale=1.5)\n",
    "sns.set_style('white')\n",
    "\n",
    "fig, ax = plt.subplots(figsize=(9, 6))\n",
    "\n",
    "ax = sns.distplot(question_pairs.char_match_count, \n",
    "                  bins=int(np.sqrt(len(question_pairs.char_match_count))), \n",
    "                  kde=True, \n",
    "                  hist = False,\n",
    "                  label = 'Jaccard similarity: characters')\n",
    "ax = sns.distplot(question_pairs.word_match_count, \n",
    "                  bins=int(np.sqrt(len(question_pairs.word_match_count))), \n",
    "                  kde=True,\n",
    "                  hist = False,\n",
    "                  label = 'Jaccard similarity: words')\n",
    "ax = sns.distplot(question_pairs.cosine_similarity, \n",
    "                  bins=int(np.sqrt(len(question_pairs.cosine_similarity))), \n",
    "                  kde=True, \n",
    "                  hist = False,\n",
    "                  label = 'Cosine similarity: words')\n",
    "\n",
    "ax.set(xlabel='similarity', ylabel='PDF', \n",
    "       title = 'Distributions of the text similarity metrics')\n",
    "\n",
    "plt.legend()\n",
    "plt.show()"
   ]
  },
  {
   "cell_type": "markdown",
   "metadata": {
    "colab_type": "text",
    "id": "jVl4q1twsCga"
   },
   "source": [
    "# Train-test split."
   ]
  },
  {
   "cell_type": "code",
   "execution_count": 0,
   "metadata": {
    "colab": {},
    "colab_type": "code",
    "id": "5-XDEmK7sFwq"
   },
   "outputs": [],
   "source": [
    "msk = np.random.rand(len(question_pairs)) < TEST_SPLIT\n",
    "train = question_pairs[~msk]\n",
    "test = question_pairs[msk]"
   ]
  },
  {
   "cell_type": "markdown",
   "metadata": {
    "colab_type": "text",
    "id": "VRfM3PSusvZu"
   },
   "source": [
    "# Tokenize dataset."
   ]
  },
  {
   "cell_type": "code",
   "execution_count": 0,
   "metadata": {
    "colab": {},
    "colab_type": "code",
    "id": "-UtToHXJUmcq"
   },
   "outputs": [],
   "source": [
    "# 1500 words are taken in consideration in the model.\n",
    "tokenizer = Tokenizer(num_words = NB_WORDS)\n",
    "\n",
    "# Fit on vocabulary used in both question1 and question2 on train dataset.\n",
    "tokenizer.fit_on_texts(np.concatenate((train.question1.astype(str), \n",
    "                                       train.question2.astype(str)),\n",
    "                                      axis=0))\n",
    "\n",
    "# Covert texts to sequences on questions 1 and 2, in train and test dataset.\n",
    "sequences_train_q1 = tokenizer.texts_to_sequences(train.question1.astype(str))\n",
    "sequences_train_q2 = tokenizer.texts_to_sequences(train.question2.astype(str))\n",
    "\n",
    "sequences_test_q1 = tokenizer.texts_to_sequences(test.question1.astype(str))\n",
    "sequences_test_q2 = tokenizer.texts_to_sequences(test.question2.astype(str))\n",
    "\n",
    "word_index = tokenizer.word_index"
   ]
  },
  {
   "cell_type": "markdown",
   "metadata": {
    "colab_type": "text",
    "id": "yp4zcESlXSC2"
   },
   "source": [
    "# Pad sequences."
   ]
  },
  {
   "cell_type": "code",
   "execution_count": 0,
   "metadata": {
    "colab": {},
    "colab_type": "code",
    "id": "RukiL_v3XVHX"
   },
   "outputs": [],
   "source": [
    "sequences_train_q1_padded = \\\n",
    "    pad_sequences(sequences_train_q1, maxlen=MAX_SEQUENCE_LENGTH)\n",
    "sequences_train_q2_padded = \\\n",
    "    pad_sequences(sequences_train_q2, maxlen=MAX_SEQUENCE_LENGTH)\n",
    "\n",
    "sequences_test_q1_padded = \\\n",
    "    pad_sequences(sequences_test_q1, maxlen=MAX_SEQUENCE_LENGTH)\n",
    "sequences_test_q2_padded = \\\n",
    "    pad_sequences(sequences_test_q2, maxlen=MAX_SEQUENCE_LENGTH)"
   ]
  },
  {
   "cell_type": "markdown",
   "metadata": {
    "colab_type": "text",
    "id": "csSrwf4-4nq-"
   },
   "source": [
    "# Generate word embedding matrix using pretrained GloVe embeddings."
   ]
  },
  {
   "cell_type": "code",
   "execution_count": 0,
   "metadata": {
    "colab": {},
    "colab_type": "code",
    "id": "SyHpJBPkbElG"
   },
   "outputs": [],
   "source": [
    "word_embedding_matrix = np.zeros((NB_WORDS+1, EMBEDDING_DIM))\n",
    "\n",
    "embeddings_index = {}\n",
    "\n",
    "#Using pre-trained word vectors.\n",
    "pre_trained_glove_vecs = open('/content/gdrive/My Drive/Colab Notebooks/capstone2/quora_questions_similarity/glove.6B.50d.txt',\n",
    "                              encoding=\"utf-8\")\n",
    "\n",
    "for line in pre_trained_glove_vecs:\n",
    "    values = line.split()\n",
    "    word = values[0] #gives the word for which vector is given\n",
    "    coefs = np.asarray(values[1:], dtype='float32')\n",
    "    embeddings_index[word] = coefs\n",
    "    \n",
    "pre_trained_glove_vecs.close()\n",
    "\n",
    "for word, i in word_index.items():\n",
    "    if i >= NB_WORDS:\n",
    "        continue\n",
    "    embedding_vector = embeddings_index.get(word)\n",
    "    if embedding_vector is not None:\n",
    "        word_embedding_matrix[i] = embedding_vector"
   ]
  },
  {
   "cell_type": "markdown",
   "metadata": {
    "colab_type": "text",
    "id": "yDlzkj27dG3M"
   },
   "source": [
    "# Twin neural network with time distributed layers, and cosine and Jaccard similarity.\n",
    "\n"
   ]
  },
  {
   "cell_type": "code",
   "execution_count": 0,
   "metadata": {
    "colab": {},
    "colab_type": "code",
    "id": "5Mj98OvGc_EU"
   },
   "outputs": [],
   "source": [
    "K.clear_session()\n",
    "from keras.layers import Bidirectional\n",
    "from keras.layers import LSTM\n",
    "from keras.layers import Flatten\n",
    "from tensorflow.python.util import deprecation\n",
    "deprecation._PRINT_DEPRECATION_WARNINGS = False\n",
    "\n",
    "question1 = Input(shape=(MAX_SEQUENCE_LENGTH,))\n",
    "question2 = Input(shape=(MAX_SEQUENCE_LENGTH,))\n",
    "\n",
    "features  = Input(shape=(3,))\n",
    "\n",
    "q1 = Embedding(NB_WORDS + 1, \n",
    "               EMBEDDING_DIM, \n",
    "               weights=[word_embedding_matrix], \n",
    "               input_length=MAX_SEQUENCE_LENGTH, \n",
    "               trainable=True)(question1)\n",
    "\n",
    "q1 = TimeDistributed(Dense(EMBEDDING_DIM, activation='relu'))(q1)\n",
    "\n",
    "q1_max_embedding_dim = \\\n",
    "    Lambda(lambda x: K.max(x, axis=1), output_shape=(MAX_SEQUENCE_LENGTH, ))(q1)\n",
    "q1_max_sequence_dim = \\\n",
    "    Lambda(lambda x: K.max(x, axis=2), output_shape=(EMBEDDING_DIM, ))(q1)\n",
    "\n",
    "q1_sum_embedding_dim = \\\n",
    "    Lambda(lambda x: K.sum(x, axis=1), output_shape=(MAX_SEQUENCE_LENGTH, ))(q1)\n",
    "q1_sum_sequence_dim = \\\n",
    "    Lambda(lambda x: K.sum(x, axis=2), output_shape=(EMBEDDING_DIM, ))(q1)\n",
    "\n",
    "q2 = Embedding(NB_WORDS + 1, \n",
    "               EMBEDDING_DIM, \n",
    "               weights=[word_embedding_matrix], \n",
    "               input_length=MAX_SEQUENCE_LENGTH, \n",
    "               trainable=True)(question2)\n",
    "\n",
    "q2 = TimeDistributed(Dense(EMBEDDING_DIM, activation='relu'))(q2)\n",
    "\n",
    "q2_max_embedding_dim = \\\n",
    "    Lambda(lambda x: K.max(x, axis=1), output_shape=(MAX_SEQUENCE_LENGTH, ))(q2)\n",
    "q2_max_sequence_dim = \\\n",
    "    Lambda(lambda x: K.sum(x, axis=2), output_shape=(EMBEDDING_DIM, ))(q2)\n",
    "\n",
    "q2_sum_embedding_dim = \\\n",
    "    Lambda(lambda x: K.sum(x, axis=1), output_shape=(MAX_SEQUENCE_LENGTH, ))(q2)\n",
    "q2_sum_sequence_dim = \\\n",
    "    Lambda(lambda x: K.sum(x, axis=2), output_shape=(EMBEDDING_DIM, ))(q2)\n",
    "\n",
    "#functional keras code instead of the normal sequential code\n",
    "merged = concatenate([q1_max_embedding_dim,\n",
    "                      q2_max_embedding_dim,\n",
    "                      q1_sum_embedding_dim,\n",
    "                      q2_sum_embedding_dim,\n",
    "                      q1_sum_sequence_dim,\n",
    "                      q2_sum_sequence_dim,\n",
    "                      q1_max_sequence_dim,\n",
    "                      q2_max_sequence_dim,\n",
    "                      features])\n",
    "merged = Dense(300, activation='relu')(merged)\n",
    "merged = Dropout(0.5)(merged)\n",
    "merged = BatchNormalization()(merged)\n",
    "merged = Dense(100, activation='relu')(merged)\n",
    "merged = Dropout(0.2)(merged)\n",
    "merged = BatchNormalization()(merged)\n",
    "merged = Dense(100, activation='relu')(merged)\n",
    "merged = Dropout(0.2)(merged)\n",
    "merged = BatchNormalization()(merged)\n",
    "merged = Dense(50, activation='relu')(merged)\n",
    "merged = Dropout(0.1)(merged)\n",
    "merged = BatchNormalization()(merged)\n",
    "\n",
    "is_duplicate = Dense(1, activation='sigmoid')(merged)\n",
    "\n",
    "one_shot_model = Model(inputs=[question1,question2,features], \n",
    "                       outputs=is_duplicate)\n",
    "\n",
    "auc_roc = as_keras_metric(tf.metrics.auc)\n",
    "one_shot_model.compile(loss='binary_crossentropy', \n",
    "                       optimizer='adam', \n",
    "                       metrics=[auc_roc])"
   ]
  },
  {
   "cell_type": "code",
   "execution_count": 0,
   "metadata": {
    "colab": {
     "base_uri": "https://localhost:8080/",
     "height": 1000
    },
    "colab_type": "code",
    "executionInfo": {
     "elapsed": 864,
     "status": "ok",
     "timestamp": 1583280760500,
     "user": {
      "displayName": "Konstantin Lekomtsev",
      "photoUrl": "",
      "userId": "02021487482276961340"
     },
     "user_tz": 480
    },
    "id": "BHk8Z798jHPD",
    "outputId": "8617f36c-09bd-4819-a7d5-4789c6d11996"
   },
   "outputs": [
    {
     "name": "stdout",
     "output_type": "stream",
     "text": [
      "Model: \"model_1\"\n",
      "__________________________________________________________________________________________________\n",
      "Layer (type)                    Output Shape         Param #     Connected to                     \n",
      "==================================================================================================\n",
      "input_1 (InputLayer)            (None, 20)           0                                            \n",
      "__________________________________________________________________________________________________\n",
      "input_2 (InputLayer)            (None, 20)           0                                            \n",
      "__________________________________________________________________________________________________\n",
      "embedding_1 (Embedding)         (None, 20, 50)       75050       input_1[0][0]                    \n",
      "__________________________________________________________________________________________________\n",
      "embedding_2 (Embedding)         (None, 20, 50)       75050       input_2[0][0]                    \n",
      "__________________________________________________________________________________________________\n",
      "time_distributed_1 (TimeDistrib (None, 20, 50)       2550        embedding_1[0][0]                \n",
      "__________________________________________________________________________________________________\n",
      "time_distributed_2 (TimeDistrib (None, 20, 50)       2550        embedding_2[0][0]                \n",
      "__________________________________________________________________________________________________\n",
      "lambda_1 (Lambda)               (None, 20)           0           time_distributed_1[0][0]         \n",
      "__________________________________________________________________________________________________\n",
      "lambda_5 (Lambda)               (None, 20)           0           time_distributed_2[0][0]         \n",
      "__________________________________________________________________________________________________\n",
      "lambda_3 (Lambda)               (None, 20)           0           time_distributed_1[0][0]         \n",
      "__________________________________________________________________________________________________\n",
      "lambda_7 (Lambda)               (None, 20)           0           time_distributed_2[0][0]         \n",
      "__________________________________________________________________________________________________\n",
      "lambda_4 (Lambda)               (None, 50)           0           time_distributed_1[0][0]         \n",
      "__________________________________________________________________________________________________\n",
      "lambda_8 (Lambda)               (None, 50)           0           time_distributed_2[0][0]         \n",
      "__________________________________________________________________________________________________\n",
      "lambda_2 (Lambda)               (None, 50)           0           time_distributed_1[0][0]         \n",
      "__________________________________________________________________________________________________\n",
      "lambda_6 (Lambda)               (None, 50)           0           time_distributed_2[0][0]         \n",
      "__________________________________________________________________________________________________\n",
      "input_3 (InputLayer)            (None, 3)            0                                            \n",
      "__________________________________________________________________________________________________\n",
      "concatenate_1 (Concatenate)     (None, 283)          0           lambda_1[0][0]                   \n",
      "                                                                 lambda_5[0][0]                   \n",
      "                                                                 lambda_3[0][0]                   \n",
      "                                                                 lambda_7[0][0]                   \n",
      "                                                                 lambda_4[0][0]                   \n",
      "                                                                 lambda_8[0][0]                   \n",
      "                                                                 lambda_2[0][0]                   \n",
      "                                                                 lambda_6[0][0]                   \n",
      "                                                                 input_3[0][0]                    \n",
      "__________________________________________________________________________________________________\n",
      "dense_3 (Dense)                 (None, 300)          85200       concatenate_1[0][0]              \n",
      "__________________________________________________________________________________________________\n",
      "dropout_1 (Dropout)             (None, 300)          0           dense_3[0][0]                    \n",
      "__________________________________________________________________________________________________\n",
      "batch_normalization_1 (BatchNor (None, 300)          1200        dropout_1[0][0]                  \n",
      "__________________________________________________________________________________________________\n",
      "dense_4 (Dense)                 (None, 100)          30100       batch_normalization_1[0][0]      \n",
      "__________________________________________________________________________________________________\n",
      "dropout_2 (Dropout)             (None, 100)          0           dense_4[0][0]                    \n",
      "__________________________________________________________________________________________________\n",
      "batch_normalization_2 (BatchNor (None, 100)          400         dropout_2[0][0]                  \n",
      "__________________________________________________________________________________________________\n",
      "dense_5 (Dense)                 (None, 100)          10100       batch_normalization_2[0][0]      \n",
      "__________________________________________________________________________________________________\n",
      "dropout_3 (Dropout)             (None, 100)          0           dense_5[0][0]                    \n",
      "__________________________________________________________________________________________________\n",
      "batch_normalization_3 (BatchNor (None, 100)          400         dropout_3[0][0]                  \n",
      "__________________________________________________________________________________________________\n",
      "dense_6 (Dense)                 (None, 50)           5050        batch_normalization_3[0][0]      \n",
      "__________________________________________________________________________________________________\n",
      "dropout_4 (Dropout)             (None, 50)           0           dense_6[0][0]                    \n",
      "__________________________________________________________________________________________________\n",
      "batch_normalization_4 (BatchNor (None, 50)           200         dropout_4[0][0]                  \n",
      "__________________________________________________________________________________________________\n",
      "dense_7 (Dense)                 (None, 1)            51          batch_normalization_4[0][0]      \n",
      "==================================================================================================\n",
      "Total params: 287,901\n",
      "Trainable params: 286,801\n",
      "Non-trainable params: 1,100\n",
      "__________________________________________________________________________________________________\n"
     ]
    }
   ],
   "source": [
    "one_shot_model.summary()"
   ]
  },
  {
   "cell_type": "code",
   "execution_count": 0,
   "metadata": {
    "colab": {},
    "colab_type": "code",
    "id": "jkRgQQntm5Eb"
   },
   "outputs": [],
   "source": [
    "train_features = \\\n",
    "    train[['char_match_count','word_match_count','cosine_similarity']]"
   ]
  },
  {
   "cell_type": "code",
   "execution_count": 0,
   "metadata": {
    "colab": {
     "base_uri": "https://localhost:8080/",
     "height": 395
    },
    "colab_type": "code",
    "executionInfo": {
     "elapsed": 1314392,
     "status": "ok",
     "timestamp": 1583282090825,
     "user": {
      "displayName": "Konstantin Lekomtsev",
      "photoUrl": "",
      "userId": "02021487482276961340"
     },
     "user_tz": 480
    },
    "id": "mn7susJykiKD",
    "outputId": "8326a009-3852-4b93-ee9f-32ffedc83801"
   },
   "outputs": [
    {
     "name": "stdout",
     "output_type": "stream",
     "text": [
      "Train on 327565 samples, validate on 36397 samples\n",
      "Epoch 1/10\n",
      "327565/327565 [==============================] - 137s 417us/step - loss: 0.5251 - auc: 0.7065 - val_loss: 0.4464 - val_auc: 0.7903\n",
      "WARNING:tensorflow:From /usr/local/lib/python3.6/dist-packages/keras/callbacks.py:1265: The name tf.Summary is deprecated. Please use tf.compat.v1.Summary instead.\n",
      "\n",
      "Epoch 2/10\n",
      "327565/327565 [==============================] - 130s 397us/step - loss: 0.4666 - auc: 0.8081 - val_loss: 0.4391 - val_auc: 0.8188\n",
      "Epoch 3/10\n",
      "327565/327565 [==============================] - 131s 401us/step - loss: 0.4579 - auc: 0.8249 - val_loss: 0.4331 - val_auc: 0.8296\n",
      "Epoch 4/10\n",
      "327565/327565 [==============================] - 132s 402us/step - loss: 0.4534 - auc: 0.8329 - val_loss: 0.4334 - val_auc: 0.8356\n",
      "Epoch 5/10\n",
      "327565/327565 [==============================] - 132s 402us/step - loss: 0.4497 - auc: 0.8378 - val_loss: 0.4290 - val_auc: 0.8397\n",
      "Epoch 6/10\n",
      "327565/327565 [==============================] - 131s 399us/step - loss: 0.4467 - auc: 0.8414 - val_loss: 0.4323 - val_auc: 0.8428\n",
      "Epoch 7/10\n",
      "327565/327565 [==============================] - 131s 399us/step - loss: 0.4442 - auc: 0.8440 - val_loss: 0.4238 - val_auc: 0.8452\n",
      "Epoch 8/10\n",
      "327565/327565 [==============================] - 130s 397us/step - loss: 0.4430 - auc: 0.8462 - val_loss: 0.4264 - val_auc: 0.8471\n",
      "Epoch 9/10\n",
      "327565/327565 [==============================] - 130s 396us/step - loss: 0.4405 - auc: 0.8480 - val_loss: 0.4234 - val_auc: 0.8487\n",
      "Epoch 10/10\n",
      "327565/327565 [==============================] - 130s 397us/step - loss: 0.4391 - auc: 0.8495 - val_loss: 0.4285 - val_auc: 0.8502\n"
     ]
    }
   ],
   "source": [
    "deprecation._PRINT_DEPRECATION_WARNINGS = False\n",
    "one_shot_model_history = one_shot_model.fit([sequences_train_q1_padded, \n",
    "                                             sequences_train_q2_padded,\n",
    "                                             train_features],\n",
    "                                            train.is_duplicate,\n",
    "                                            epochs=NB_EPOCHS,\n",
    "                                            validation_split=VALIDATION_SPLIT,\n",
    "                                            batch_size=BATCH_SIZE,\n",
    "                                            initial_epoch = 0)"
   ]
  },
  {
   "cell_type": "code",
   "execution_count": 0,
   "metadata": {
    "colab": {},
    "colab_type": "code",
    "id": "bhMc0oFGzavn"
   },
   "outputs": [],
   "source": [
    "import matplotlib.pyplot as plt\n",
    "def plot_train_valid(model_history, title):\n",
    "    hist = model_history.history\n",
    "    x_arr = np.arange(len(hist['loss'])) + 1\n",
    "\n",
    "    fig = plt.figure(figsize=(16, 6))\n",
    "    ax = fig.add_subplot(1, 2, 1)\n",
    "    ax.plot(x_arr, hist['loss'], '-o', label='Training loss')\n",
    "    ax.plot(x_arr, hist['val_loss'], '--<', label='Validation loss')\n",
    "    ax.legend(fontsize=15)\n",
    "    ax.set_xlabel('Epoch', size=15)\n",
    "    ax.set_ylabel('Loss', size=15)\n",
    "\n",
    "    ax = fig.add_subplot(1, 2, 2)\n",
    "    ax.plot(x_arr, hist['auc'], '-o', label='Training AUC')\n",
    "    ax.plot(x_arr, hist['val_auc'], '--<', label='Validation AUC')\n",
    "    ax.legend(fontsize=15)\n",
    "    ax.set_xlabel('Epoch', size=15)\n",
    "    ax.set_ylabel('AUC', size=15)\n",
    "\n",
    "    fig.suptitle(title, fontsize=16)\n",
    "\n",
    "    return plt.show()"
   ]
  },
  {
   "cell_type": "markdown",
   "metadata": {
    "colab_type": "text",
    "id": "LwPz2p22mmZa"
   },
   "source": [
    "# Training-validation plots (time distributed network)."
   ]
  },
  {
   "cell_type": "code",
   "execution_count": 0,
   "metadata": {
    "colab": {
     "base_uri": "https://localhost:8080/",
     "height": 435
    },
    "colab_type": "code",
    "executionInfo": {
     "elapsed": 1388,
     "status": "ok",
     "timestamp": 1583296143559,
     "user": {
      "displayName": "Konstantin Lekomtsev",
      "photoUrl": "",
      "userId": "02021487482276961340"
     },
     "user_tz": 480
    },
    "id": "dzOJrmfpnToL",
    "outputId": "48610821-1480-4217-fbe8-a79b4f7da542"
   },
   "outputs": [
    {
     "data": {
      "image/png": "[encoded data removed]",
      "text/plain": [
       "<Figure size 1152x432 with 2 Axes>"
      ]
     },
     "metadata": {
      "tags": []
     },
     "output_type": "display_data"
    }
   ],
   "source": [
    "plot_train_valid(one_shot_model_history, 'Time distributed network')"
   ]
  },
  {
   "cell_type": "markdown",
   "metadata": {
    "colab_type": "text",
    "id": "U2dyzDKGvqdM"
   },
   "source": [
    "# Performance on the test set (time distributed network)."
   ]
  },
  {
   "cell_type": "code",
   "execution_count": 0,
   "metadata": {
    "colab": {},
    "colab_type": "code",
    "id": "10uyJ_fVvvps"
   },
   "outputs": [],
   "source": [
    "test_data_features = \\\n",
    "    test[['char_match_count','word_match_count','cosine_similarity']]\n",
    "y_pred = one_shot_model.predict([sequences_test_q1_padded, \n",
    "                                 sequences_test_q2_padded,\n",
    "                                 test_data_features])"
   ]
  },
  {
   "cell_type": "code",
   "execution_count": 0,
   "metadata": {
    "colab": {
     "base_uri": "https://localhost:8080/",
     "height": 197
    },
    "colab_type": "code",
    "executionInfo": {
     "elapsed": 698,
     "status": "ok",
     "timestamp": 1583282296621,
     "user": {
      "displayName": "Konstantin Lekomtsev",
      "photoUrl": "",
      "userId": "02021487482276961340"
     },
     "user_tz": 480
    },
    "id": "bC5sWIUP0GNL",
    "outputId": "8b1594d1-ec06-4587-dd6f-0c132c1701a8"
   },
   "outputs": [
    {
     "name": "stdout",
     "output_type": "stream",
     "text": [
      "[[21410  3972]\n",
      " [ 4804 10139]]\n",
      "              precision    recall  f1-score   support\n",
      "\n",
      "           0       0.82      0.84      0.83     25382\n",
      "           1       0.72      0.68      0.70     14943\n",
      "\n",
      "    accuracy                           0.78     40325\n",
      "   macro avg       0.77      0.76      0.76     40325\n",
      "weighted avg       0.78      0.78      0.78     40325\n",
      "\n"
     ]
    }
   ],
   "source": [
    "classification_and_confusion_report(test.is_duplicate,y_pred,0.5)"
   ]
  },
  {
   "cell_type": "markdown",
   "metadata": {
    "colab_type": "text",
    "id": "VeVaxGdDPlF5"
   },
   "source": [
    "# Twin neural network with shared LSTM and Manhattan similarity."
   ]
  },
  {
   "cell_type": "code",
   "execution_count": 0,
   "metadata": {
    "colab": {},
    "colab_type": "code",
    "id": "HAzzUtneRili"
   },
   "outputs": [],
   "source": [
    "def exponent_neg_manhattan_distance(left, right):\n",
    "    '''Define Manhattan diastance. '''\n",
    "    return K.exp(-K.sum(K.abs(left-right), axis=1, keepdims=True))"
   ]
  },
  {
   "cell_type": "code",
   "execution_count": 0,
   "metadata": {
    "colab": {},
    "colab_type": "code",
    "id": "ldILrfI53O0w"
   },
   "outputs": [],
   "source": [
    "K.clear_session()\n",
    "from keras.layers import Bidirectional\n",
    "from keras.layers import LSTM\n",
    "from keras.layers import Flatten\n",
    "from tensorflow.python.util import deprecation\n",
    "deprecation._PRINT_DEPRECATION_WARNINGS = False\n",
    "\n",
    "question1 = Input(shape=(MAX_SEQUENCE_LENGTH,))\n",
    "question2 = Input(shape=(MAX_SEQUENCE_LENGTH,))\n",
    "\n",
    "features  = Input(shape=(3,))\n",
    "\n",
    "q1 = Embedding(NB_WORDS + 1, \n",
    "               EMBEDDING_DIM, \n",
    "               weights=[word_embedding_matrix], \n",
    "               input_length=MAX_SEQUENCE_LENGTH, \n",
    "               trainable=True)(question1)\n",
    "\n",
    "q2 = Embedding(NB_WORDS + 1, \n",
    "               EMBEDDING_DIM, \n",
    "               weights=[word_embedding_matrix], \n",
    "               input_length=MAX_SEQUENCE_LENGTH, \n",
    "               trainable=True)(question2)\n",
    "\n",
    "# shared LSTM\n",
    "shared_lstm = Bidirectional(LSTM(30), merge_mode = 'sum')\n",
    "\n",
    "q1 = shared_lstm(q1)\n",
    "q2 = shared_lstm(q2)\n",
    "\n",
    "malstm_distance = \\\n",
    "    Lambda(function=lambda x: exponent_neg_manhattan_distance(x[0], x[1]),\n",
    "           output_shape=lambda x: (x[0][0], 1))([q1,q2])\n",
    "\n",
    "#functional keras code instead of the normal sequential code\n",
    "merged = concatenate([malstm_distance,\n",
    "                      features])\n",
    "merged = Dense(300, activation='relu')(merged)\n",
    "merged = Dropout(0.5)(merged)\n",
    "merged = BatchNormalization()(merged)\n",
    "merged = Dense(100, activation='relu')(merged)\n",
    "merged = Dropout(0.2)(merged)\n",
    "merged = BatchNormalization()(merged)\n",
    "merged = Dense(100, activation='relu')(merged)\n",
    "merged = Dropout(0.2)(merged)\n",
    "merged = BatchNormalization()(merged)\n",
    "merged = Dense(50, activation='relu')(merged)\n",
    "merged = Dropout(0.1)(merged)\n",
    "merged = BatchNormalization()(merged)\n",
    "\n",
    "is_duplicate = Dense(1, activation='sigmoid')(merged)\n",
    "\n",
    "one_shot_lstm_model = Model(inputs=[question1,question2,features], \n",
    "                            outputs=is_duplicate)\n",
    "\n",
    "auc_roc = as_keras_metric(tf.metrics.auc)\n",
    "one_shot_lstm_model.compile(loss='binary_crossentropy', \n",
    "                            optimizer='adam', \n",
    "                            metrics=[auc_roc])"
   ]
  },
  {
   "cell_type": "code",
   "execution_count": 0,
   "metadata": {
    "colab": {},
    "colab_type": "code",
    "id": "pC_C-DBVTC0A"
   },
   "outputs": [],
   "source": [
    "train_features = \\\n",
    "    train[['char_match_count','word_match_count','cosine_similarity']]"
   ]
  },
  {
   "cell_type": "code",
   "execution_count": 0,
   "metadata": {
    "colab": {
     "base_uri": "https://localhost:8080/",
     "height": 362
    },
    "colab_type": "code",
    "executionInfo": {
     "elapsed": 13556344,
     "status": "ok",
     "timestamp": 1583295883798,
     "user": {
      "displayName": "Konstantin Lekomtsev",
      "photoUrl": "",
      "userId": "02021487482276961340"
     },
     "user_tz": 480
    },
    "id": "vjfvRRFNUtq7",
    "outputId": "0c29b13e-67ae-47fe-c038-93be1d931003"
   },
   "outputs": [
    {
     "name": "stdout",
     "output_type": "stream",
     "text": [
      "Train on 327565 samples, validate on 36397 samples\n",
      "Epoch 1/10\n",
      "327565/327565 [==============================] - 1335s 4ms/step - loss: 0.4828 - auc: 0.7831 - val_loss: 0.4275 - val_auc: 0.8287\n",
      "Epoch 2/10\n",
      "327565/327565 [==============================] - 1332s 4ms/step - loss: 0.4324 - auc: 0.8414 - val_loss: 0.4039 - val_auc: 0.8499\n",
      "Epoch 3/10\n",
      "327565/327565 [==============================] - 1335s 4ms/step - loss: 0.4120 - auc: 0.8564 - val_loss: 0.4011 - val_auc: 0.8613\n",
      "Epoch 4/10\n",
      "327565/327565 [==============================] - 1361s 4ms/step - loss: 0.3961 - auc: 0.8658 - val_loss: 0.3966 - val_auc: 0.8694\n",
      "Epoch 5/10\n",
      "327565/327565 [==============================] - 1381s 4ms/step - loss: 0.3823 - auc: 0.8730 - val_loss: 0.3961 - val_auc: 0.8758\n",
      "Epoch 6/10\n",
      "327565/327565 [==============================] - 1388s 4ms/step - loss: 0.4375 - auc: 0.8753 - val_loss: 0.4418 - val_auc: 0.8741\n",
      "Epoch 7/10\n",
      "327565/327565 [==============================] - 1397s 4ms/step - loss: 0.4247 - auc: 0.8739 - val_loss: 0.4302 - val_auc: 0.8738\n",
      "Epoch 8/10\n",
      "327565/327565 [==============================] - 1370s 4ms/step - loss: 0.3996 - auc: 0.8746 - val_loss: 0.4178 - val_auc: 0.8755\n",
      "Epoch 9/10\n",
      "327565/327565 [==============================] - 1344s 4ms/step - loss: 0.4012 - auc: 0.8763 - val_loss: 0.4321 - val_auc: 0.8767\n",
      "Epoch 10/10\n",
      "327565/327565 [==============================] - 1310s 4ms/step - loss: 0.4028 - auc: 0.8771 - val_loss: 0.4280 - val_auc: 0.8773\n"
     ]
    }
   ],
   "source": [
    "deprecation._PRINT_DEPRECATION_WARNINGS = False\n",
    "one_shot_lstm_model_history = \\\n",
    "    one_shot_lstm_model.fit([sequences_train_q1_padded, \n",
    "                             sequences_train_q2_padded,\n",
    "                             train_features],\n",
    "                            train.is_duplicate,\n",
    "                            epochs=NB_EPOCHS,\n",
    "                            validation_split=VALIDATION_SPLIT,\n",
    "                            batch_size=BATCH_SIZE,\n",
    "                            initial_epoch = 0)"
   ]
  },
  {
   "cell_type": "markdown",
   "metadata": {
    "colab_type": "text",
    "id": "Tn2UDnGjlzZM"
   },
   "source": [
    "# Training - validation plots (LSTM network)."
   ]
  },
  {
   "cell_type": "code",
   "execution_count": 0,
   "metadata": {
    "colab": {
     "base_uri": "https://localhost:8080/",
     "height": 435
    },
    "colab_type": "code",
    "executionInfo": {
     "elapsed": 1336,
     "status": "ok",
     "timestamp": 1583296160507,
     "user": {
      "displayName": "Konstantin Lekomtsev",
      "photoUrl": "",
      "userId": "02021487482276961340"
     },
     "user_tz": 480
    },
    "id": "DlQDiNk6VMqO",
    "outputId": "17490c71-61c0-46a5-b550-d4f79d9c8ff2"
   },
   "outputs": [
    {
     "data": {
      "image/png": "[encoded data removed]",
      "text/plain": [
       "<Figure size 1152x432 with 2 Axes>"
      ]
     },
     "metadata": {
      "tags": []
     },
     "output_type": "display_data"
    }
   ],
   "source": [
    "plot_train_valid(one_shot_lstm_model_history, 'LSTM network')"
   ]
  },
  {
   "cell_type": "markdown",
   "metadata": {
    "colab_type": "text",
    "id": "AhmNZAzQmK9k"
   },
   "source": [
    "# Performance on the test set (LSTM network)."
   ]
  },
  {
   "cell_type": "code",
   "execution_count": 0,
   "metadata": {
    "colab": {},
    "colab_type": "code",
    "id": "HW4g8ltt1Jqw"
   },
   "outputs": [],
   "source": [
    "test_data_features = \\\n",
    "    test[['char_match_count','word_match_count','cosine_similarity']]\n",
    "y_pred_lstm = one_shot_lstm_model.predict([sequences_test_q1_padded, \n",
    "                                           sequences_test_q2_padded,\n",
    "                                           test_data_features])"
   ]
  },
  {
   "cell_type": "code",
   "execution_count": 0,
   "metadata": {
    "colab": {
     "base_uri": "https://localhost:8080/",
     "height": 197
    },
    "colab_type": "code",
    "executionInfo": {
     "elapsed": 900,
     "status": "ok",
     "timestamp": 1583296758176,
     "user": {
      "displayName": "Konstantin Lekomtsev",
      "photoUrl": "",
      "userId": "02021487482276961340"
     },
     "user_tz": 480
    },
    "id": "ROt-7UkK1yD8",
    "outputId": "bc190d9a-74e6-4d60-d6b5-d590c10367ce"
   },
   "outputs": [
    {
     "name": "stdout",
     "output_type": "stream",
     "text": [
      "[[22111  3271]\n",
      " [ 5278  9665]]\n",
      "              precision    recall  f1-score   support\n",
      "\n",
      "           0       0.81      0.87      0.84     25382\n",
      "           1       0.75      0.65      0.69     14943\n",
      "\n",
      "    accuracy                           0.79     40325\n",
      "   macro avg       0.78      0.76      0.77     40325\n",
      "weighted avg       0.79      0.79      0.78     40325\n",
      "\n"
     ]
    }
   ],
   "source": [
    "classification_and_confusion_report(test.is_duplicate,y_pred_lstm,0.5)"
   ]
  },
  {
   "cell_type": "code",
   "execution_count": 0,
   "metadata": {
    "colab": {},
    "colab_type": "code",
    "id": "p7HuJwEW1qLN"
   },
   "outputs": [],
   "source": []
  }
 ],
 "metadata": {
  "accelerator": "GPU",
  "colab": {
   "name": "quora_questions_similarity.ipynb",
   "provenance": []
  },
  "kernelspec": {
   "display_name": "Python 3",
   "language": "python",
   "name": "python3"
  },
  "language_info": {
   "codemirror_mode": {
    "name": "ipython",
    "version": 3
   },
   "file_extension": ".py",
   "mimetype": "text/x-python",
   "name": "python",
   "nbconvert_exporter": "python",
   "pygments_lexer": "ipython3",
   "version": "3.7.4"
  }
 },
 "nbformat": 4,
 "nbformat_minor": 1
}
