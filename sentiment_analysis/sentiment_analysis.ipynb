{
 "cells": [
  {
   "cell_type": "code",
   "execution_count": 1,
   "metadata": {
    "colab": {
     "base_uri": "https://localhost:8080/",
     "height": 32
    },
    "colab_type": "code",
    "executionInfo": {
     "elapsed": 8858,
     "status": "ok",
     "timestamp": 1580955127287,
     "user": {
      "displayName": "Konstantin Lekomtsev",
      "photoUrl": "",
      "userId": "02021487482276961340"
     },
     "user_tz": 480
    },
    "id": "eyFW8WeBQ7zt",
    "outputId": "de3d1645-528f-4fc5-d726-a0fb1021884d"
   },
   "outputs": [
    {
     "name": "stdout",
     "output_type": "stream",
     "text": [
      "TensorFlow 2.x selected.\n"
     ]
    }
   ],
   "source": [
    "%tensorflow_version 2.x\n",
    "import tensorflow as tf\n",
    "import numpy as np\n",
    "import pandas as pd"
   ]
  },
  {
   "cell_type": "code",
   "execution_count": 2,
   "metadata": {
    "colab": {
     "base_uri": "https://localhost:8080/",
     "height": 32
    },
    "colab_type": "code",
    "executionInfo": {
     "elapsed": 2356,
     "status": "ok",
     "timestamp": 1580955127289,
     "user": {
      "displayName": "Konstantin Lekomtsev",
      "photoUrl": "",
      "userId": "02021487482276961340"
     },
     "user_tz": 480
    },
    "id": "RamfrDWXQ70B",
    "outputId": "8e99a925-4833-4f50-defb-d2a238f6192d"
   },
   "outputs": [
    {
     "name": "stdout",
     "output_type": "stream",
     "text": [
      "2.1.0\n"
     ]
    }
   ],
   "source": [
    "print(tf.__version__)"
   ]
  },
  {
   "cell_type": "code",
   "execution_count": 3,
   "metadata": {
    "colab": {
     "base_uri": "https://localhost:8080/",
     "height": 118
    },
    "colab_type": "code",
    "executionInfo": {
     "elapsed": 23536,
     "status": "ok",
     "timestamp": 1580955180124,
     "user": {
      "displayName": "Konstantin Lekomtsev",
      "photoUrl": "",
      "userId": "02021487482276961340"
     },
     "user_tz": 480
    },
    "id": "YnjtKfR6RTA_",
    "outputId": "4c9fbaab-2c23-40c7-8af8-6c880187ff0f"
   },
   "outputs": [
    {
     "name": "stdout",
     "output_type": "stream",
     "text": [
      "Go to this URL in a browser: https://accounts.google.com/o/oauth2/auth?client_id=947318989803-6bn6qk8qdgf4n4g3pfee6491hc0brc4i.apps.googleusercontent.com&redirect_uri=urn%3aietf%3awg%3aoauth%3a2.0%3aoob&response_type=code&scope=email%20https%3a%2f%2fwww.googleapis.com%2fauth%2fdocs.test%20https%3a%2f%2fwww.googleapis.com%2fauth%2fdrive%20https%3a%2f%2fwww.googleapis.com%2fauth%2fdrive.photos.readonly%20https%3a%2f%2fwww.googleapis.com%2fauth%2fpeopleapi.readonly\n",
      "\n",
      "Enter your authorization code:\n",
      "··········\n",
      "Mounted at /content/gdrive\n"
     ]
    }
   ],
   "source": [
    "from google.colab import drive\n",
    "drive.mount('/content/gdrive')"
   ]
  },
  {
   "cell_type": "code",
   "execution_count": 4,
   "metadata": {
    "colab": {
     "base_uri": "https://localhost:8080/",
     "height": 140
    },
    "colab_type": "code",
    "executionInfo": {
     "elapsed": 2222,
     "status": "ok",
     "timestamp": 1580955213973,
     "user": {
      "displayName": "Konstantin Lekomtsev",
      "photoUrl": "",
      "userId": "02021487482276961340"
     },
     "user_tz": 480
    },
    "id": "SK3iHi6IQ70Q",
    "outputId": "ef98e0bc-782d-438a-d416-4e07ada4c29f"
   },
   "outputs": [
    {
     "data": {
      "text/html": [
       "<div>\n",
       "<style scoped>\n",
       "    .dataframe tbody tr th:only-of-type {\n",
       "        vertical-align: middle;\n",
       "    }\n",
       "\n",
       "    .dataframe tbody tr th {\n",
       "        vertical-align: top;\n",
       "    }\n",
       "\n",
       "    .dataframe thead th {\n",
       "        text-align: right;\n",
       "    }\n",
       "</style>\n",
       "<table border=\"1\" class=\"dataframe\">\n",
       "  <thead>\n",
       "    <tr style=\"text-align: right;\">\n",
       "      <th></th>\n",
       "      <th>review</th>\n",
       "      <th>sentiment</th>\n",
       "    </tr>\n",
       "  </thead>\n",
       "  <tbody>\n",
       "    <tr>\n",
       "      <th>0</th>\n",
       "      <td>In 1974, the teenager Martha Moxley (Maggie Gr...</td>\n",
       "      <td>1</td>\n",
       "    </tr>\n",
       "    <tr>\n",
       "      <th>1</th>\n",
       "      <td>OK... so... I really like Kris Kristofferson a...</td>\n",
       "      <td>0</td>\n",
       "    </tr>\n",
       "    <tr>\n",
       "      <th>2</th>\n",
       "      <td>***SPOILER*** Do not read this, if you think a...</td>\n",
       "      <td>0</td>\n",
       "    </tr>\n",
       "  </tbody>\n",
       "</table>\n",
       "</div>"
      ],
      "text/plain": [
       "                                              review  sentiment\n",
       "0  In 1974, the teenager Martha Moxley (Maggie Gr...          1\n",
       "1  OK... so... I really like Kris Kristofferson a...          0\n",
       "2  ***SPOILER*** Do not read this, if you think a...          0"
      ]
     },
     "execution_count": 4,
     "metadata": {
      "tags": []
     },
     "output_type": "execute_result"
    }
   ],
   "source": [
    "df = pd.read_csv('/content/gdrive/My Drive/Colab Notebooks/capstone2/sentiment_analysis/movie_data.csv', encoding='utf-8')\n",
    "df.head(3)"
   ]
  },
  {
   "cell_type": "code",
   "execution_count": 5,
   "metadata": {
    "colab": {
     "base_uri": "https://localhost:8080/",
     "height": 32
    },
    "colab_type": "code",
    "executionInfo": {
     "elapsed": 467,
     "status": "ok",
     "timestamp": 1580955217243,
     "user": {
      "displayName": "Konstantin Lekomtsev",
      "photoUrl": "",
      "userId": "02021487482276961340"
     },
     "user_tz": 480
    },
    "id": "rADDiF-DQ70c",
    "outputId": "a25ccc97-1003-453a-e367-eaaa9667c9a6"
   },
   "outputs": [
    {
     "data": {
      "text/plain": [
       "(50000, 2)"
      ]
     },
     "execution_count": 5,
     "metadata": {
      "tags": []
     },
     "output_type": "execute_result"
    }
   ],
   "source": [
    "df.shape"
   ]
  },
  {
   "cell_type": "markdown",
   "metadata": {
    "colab_type": "text",
    "id": "iFsmYhPeQ70n"
   },
   "source": [
    "# Clean dataset."
   ]
  },
  {
   "cell_type": "markdown",
   "metadata": {
    "colab_type": "text",
    "id": "Y6x4zGjlQ70q"
   },
   "source": [
    "**Removing HTML markup and all non-word characters.**"
   ]
  },
  {
   "cell_type": "code",
   "execution_count": 0,
   "metadata": {
    "colab": {},
    "colab_type": "code",
    "id": "y7_Uk4wyQ70t"
   },
   "outputs": [],
   "source": [
    "import re\n",
    "def preprocessor(text):\n",
    "    text = re.sub('<[^>]*>', '', text)\n",
    "    emotions = re.findall('(?::|;|=)(?:-)?(?:\\)|\\(|D|P)',\n",
    "                           text)\n",
    "    text = (re.sub('[\\W]+', ' ', text.lower()) +\n",
    "            ' '.join(emotions).replace('-', ''))\n",
    "    return text"
   ]
  },
  {
   "cell_type": "code",
   "execution_count": 0,
   "metadata": {
    "colab": {},
    "colab_type": "code",
    "id": "FNgotmswQ70y"
   },
   "outputs": [],
   "source": [
    "df['review'] = df['review'].apply(preprocessor)"
   ]
  },
  {
   "cell_type": "code",
   "execution_count": 8,
   "metadata": {
    "colab": {
     "base_uri": "https://localhost:8080/",
     "height": 140
    },
    "colab_type": "code",
    "executionInfo": {
     "elapsed": 459,
     "status": "ok",
     "timestamp": 1580955254911,
     "user": {
      "displayName": "Konstantin Lekomtsev",
      "photoUrl": "",
      "userId": "02021487482276961340"
     },
     "user_tz": 480
    },
    "id": "DoirIqfyQ703",
    "outputId": "fca64cac-f6f5-477c-eb24-95a75984b59a"
   },
   "outputs": [
    {
     "data": {
      "text/html": [
       "<div>\n",
       "<style scoped>\n",
       "    .dataframe tbody tr th:only-of-type {\n",
       "        vertical-align: middle;\n",
       "    }\n",
       "\n",
       "    .dataframe tbody tr th {\n",
       "        vertical-align: top;\n",
       "    }\n",
       "\n",
       "    .dataframe thead th {\n",
       "        text-align: right;\n",
       "    }\n",
       "</style>\n",
       "<table border=\"1\" class=\"dataframe\">\n",
       "  <thead>\n",
       "    <tr style=\"text-align: right;\">\n",
       "      <th></th>\n",
       "      <th>review</th>\n",
       "      <th>sentiment</th>\n",
       "    </tr>\n",
       "  </thead>\n",
       "  <tbody>\n",
       "    <tr>\n",
       "      <th>0</th>\n",
       "      <td>in 1974 the teenager martha moxley maggie grac...</td>\n",
       "      <td>1</td>\n",
       "    </tr>\n",
       "    <tr>\n",
       "      <th>1</th>\n",
       "      <td>ok so i really like kris kristofferson and his...</td>\n",
       "      <td>0</td>\n",
       "    </tr>\n",
       "    <tr>\n",
       "      <th>2</th>\n",
       "      <td>spoiler do not read this if you think about w...</td>\n",
       "      <td>0</td>\n",
       "    </tr>\n",
       "  </tbody>\n",
       "</table>\n",
       "</div>"
      ],
      "text/plain": [
       "                                              review  sentiment\n",
       "0  in 1974 the teenager martha moxley maggie grac...          1\n",
       "1  ok so i really like kris kristofferson and his...          0\n",
       "2   spoiler do not read this if you think about w...          0"
      ]
     },
     "execution_count": 8,
     "metadata": {
      "tags": []
     },
     "output_type": "execute_result"
    }
   ],
   "source": [
    "df.head(3)"
   ]
  },
  {
   "cell_type": "markdown",
   "metadata": {
    "colab_type": "text",
    "id": "poAiAoeIQ709"
   },
   "source": [
    "# Processing into tokens, stemming and removing stop words."
   ]
  },
  {
   "cell_type": "code",
   "execution_count": 9,
   "metadata": {
    "colab": {
     "base_uri": "https://localhost:8080/",
     "height": 65
    },
    "colab_type": "code",
    "executionInfo": {
     "elapsed": 1084,
     "status": "ok",
     "timestamp": 1580955265208,
     "user": {
      "displayName": "Konstantin Lekomtsev",
      "photoUrl": "",
      "userId": "02021487482276961340"
     },
     "user_tz": 480
    },
    "id": "BPyb9LETQ70_",
    "outputId": "33ea3655-2581-4b0c-8e0b-03328724b2da"
   },
   "outputs": [
    {
     "name": "stdout",
     "output_type": "stream",
     "text": [
      "[nltk_data] Downloading package stopwords to /root/nltk_data...\n",
      "[nltk_data]   Unzipping corpora/stopwords.zip.\n"
     ]
    },
    {
     "data": {
      "text/plain": [
       "True"
      ]
     },
     "execution_count": 9,
     "metadata": {
      "tags": []
     },
     "output_type": "execute_result"
    }
   ],
   "source": [
    "import nltk\n",
    "\n",
    "nltk.download('stopwords')"
   ]
  },
  {
   "cell_type": "code",
   "execution_count": 0,
   "metadata": {
    "colab": {},
    "colab_type": "code",
    "id": "CYi4z3zkQ71E"
   },
   "outputs": [],
   "source": [
    "from nltk.stem.porter import PorterStemmer\n",
    "from nltk.corpus import stopwords\n",
    "\n",
    "porter = PorterStemmer()\n",
    "\n",
    "def tokenizer_porter(text):\n",
    "    return [porter.stem(word) for word in text.split()]\n",
    "\n",
    "def stem_and_remove_stop_words(text):\n",
    "    stop = stopwords.words('english')\n",
    "    seperator = ' '\n",
    "    text = seperator.join([w for w in tokenizer_porter(text) if w not in stop])\n",
    "    return text"
   ]
  },
  {
   "cell_type": "code",
   "execution_count": 23,
   "metadata": {
    "colab": {
     "base_uri": "https://localhost:8080/",
     "height": 32
    },
    "colab_type": "code",
    "executionInfo": {
     "elapsed": 372,
     "status": "ok",
     "timestamp": 1580956119094,
     "user": {
      "displayName": "Konstantin Lekomtsev",
      "photoUrl": "",
      "userId": "02021487482276961340"
     },
     "user_tz": 480
    },
    "id": "8rO-c_HqTDYm",
    "outputId": "5c875f83-5bd4-48d8-b24c-e370b2ffc43f"
   },
   "outputs": [
    {
     "data": {
      "text/plain": [
       "'in 1974 the teenager martha moxley maggie grace moves to the high class area of belle haven greenwic'"
      ]
     },
     "execution_count": 23,
     "metadata": {
      "tags": []
     },
     "output_type": "execute_result"
    }
   ],
   "source": [
    "df.loc[0, 'review'][:100]"
   ]
  },
  {
   "cell_type": "code",
   "execution_count": 24,
   "metadata": {
    "colab": {
     "base_uri": "https://localhost:8080/",
     "height": 32
    },
    "colab_type": "code",
    "executionInfo": {
     "elapsed": 480,
     "status": "ok",
     "timestamp": 1580956120597,
     "user": {
      "displayName": "Konstantin Lekomtsev",
      "photoUrl": "",
      "userId": "02021487482276961340"
     },
     "user_tz": 480
    },
    "id": "HlbdFKrDTXHQ",
    "outputId": "0f72e0bf-a277-42d9-8db3-99fb91344dc5"
   },
   "outputs": [
    {
     "data": {
      "text/plain": [
       "'1974 teenag martha moxley maggi grace move high class area bell greenwic'"
      ]
     },
     "execution_count": 24,
     "metadata": {
      "tags": []
     },
     "output_type": "execute_result"
    }
   ],
   "source": [
    "stem_and_remove_stop_words(df.loc[0, 'review'][:100])"
   ]
  },
  {
   "cell_type": "code",
   "execution_count": 0,
   "metadata": {
    "colab": {},
    "colab_type": "code",
    "id": "E0UUYZKZUCMs"
   },
   "outputs": [],
   "source": [
    "df['review'] = df['review'].apply(stem_and_remove_stop_words)"
   ]
  },
  {
   "cell_type": "code",
   "execution_count": 26,
   "metadata": {
    "colab": {
     "base_uri": "https://localhost:8080/",
     "height": 140
    },
    "colab_type": "code",
    "executionInfo": {
     "elapsed": 404,
     "status": "ok",
     "timestamp": 1580957293322,
     "user": {
      "displayName": "Konstantin Lekomtsev",
      "photoUrl": "",
      "userId": "02021487482276961340"
     },
     "user_tz": 480
    },
    "id": "niTF2G0lZcsk",
    "outputId": "578a916b-004e-427a-c293-c4e219c8cec4"
   },
   "outputs": [
    {
     "data": {
      "text/html": [
       "<div>\n",
       "<style scoped>\n",
       "    .dataframe tbody tr th:only-of-type {\n",
       "        vertical-align: middle;\n",
       "    }\n",
       "\n",
       "    .dataframe tbody tr th {\n",
       "        vertical-align: top;\n",
       "    }\n",
       "\n",
       "    .dataframe thead th {\n",
       "        text-align: right;\n",
       "    }\n",
       "</style>\n",
       "<table border=\"1\" class=\"dataframe\">\n",
       "  <thead>\n",
       "    <tr style=\"text-align: right;\">\n",
       "      <th></th>\n",
       "      <th>review</th>\n",
       "      <th>sentiment</th>\n",
       "    </tr>\n",
       "  </thead>\n",
       "  <tbody>\n",
       "    <tr>\n",
       "      <th>0</th>\n",
       "      <td>1974 teenag martha moxley maggi grace move hig...</td>\n",
       "      <td>1</td>\n",
       "    </tr>\n",
       "    <tr>\n",
       "      <th>1</th>\n",
       "      <td>ok realli like kri kristofferson hi usual easi...</td>\n",
       "      <td>0</td>\n",
       "    </tr>\n",
       "    <tr>\n",
       "      <th>2</th>\n",
       "      <td>spoiler read thi think watch movi although wou...</td>\n",
       "      <td>0</td>\n",
       "    </tr>\n",
       "  </tbody>\n",
       "</table>\n",
       "</div>"
      ],
      "text/plain": [
       "                                              review  sentiment\n",
       "0  1974 teenag martha moxley maggi grace move hig...          1\n",
       "1  ok realli like kri kristofferson hi usual easi...          0\n",
       "2  spoiler read thi think watch movi although wou...          0"
      ]
     },
     "execution_count": 26,
     "metadata": {
      "tags": []
     },
     "output_type": "execute_result"
    }
   ],
   "source": [
    "df.head(3)"
   ]
  },
  {
   "cell_type": "markdown",
   "metadata": {
    "colab_type": "text",
    "id": "eo3XLNHYQ71J"
   },
   "source": [
    "# Create a dataset."
   ]
  },
  {
   "cell_type": "code",
   "execution_count": 0,
   "metadata": {
    "colab": {},
    "colab_type": "code",
    "id": "E4TrNFtfQ71L"
   },
   "outputs": [],
   "source": [
    "target = df.pop('sentiment')\n",
    "\n",
    "ds_raw = tf.data.Dataset.from_tensor_slices(\n",
    "    (df.values, target.values))"
   ]
  },
  {
   "cell_type": "code",
   "execution_count": 28,
   "metadata": {
    "colab": {
     "base_uri": "https://localhost:8080/",
     "height": 65
    },
    "colab_type": "code",
    "executionInfo": {
     "elapsed": 387,
     "status": "ok",
     "timestamp": 1580957416262,
     "user": {
      "displayName": "Konstantin Lekomtsev",
      "photoUrl": "",
      "userId": "02021487482276961340"
     },
     "user_tz": 480
    },
    "id": "hHn6JeLcQ71Q",
    "outputId": "f7a2b2f3-7f7d-453b-cc5a-a1ed5f1e12a6"
   },
   "outputs": [
    {
     "name": "stdout",
     "output_type": "stream",
     "text": [
      "b'1974 teenag martha moxley maggi grace move high cl' 1\n",
      "b'ok realli like kri kristofferson hi usual easi go ' 0\n",
      "b'spoiler read thi think watch movi although would w' 0\n"
     ]
    }
   ],
   "source": [
    "# Inspect:\n",
    "for entry in ds_raw.take(3):\n",
    "    tf.print(entry[0].numpy()[0][:50], entry[1])"
   ]
  },
  {
   "cell_type": "markdown",
   "metadata": {
    "colab_type": "text",
    "id": "pR85d6OGQ71U"
   },
   "source": [
    "# Train / validation / test split. "
   ]
  },
  {
   "cell_type": "code",
   "execution_count": 0,
   "metadata": {
    "colab": {},
    "colab_type": "code",
    "id": "6DutMo7KQ71V"
   },
   "outputs": [],
   "source": [
    "tf.random.set_seed(1)\n",
    "\n",
    "ds_raw = ds_raw.shuffle(\n",
    "    50000, reshuffle_each_iteration=False)\n",
    "\n",
    "ds_raw_test = ds_raw.take(25000)\n",
    "ds_raw_train_valid = ds_raw.skip(25000)\n",
    "ds_raw_train = ds_raw_train_valid.take(20000)\n",
    "ds_raw_valid = ds_raw_train_valid.skip(20000)"
   ]
  },
  {
   "cell_type": "markdown",
   "metadata": {
    "colab_type": "text",
    "id": "nTVnm8JUaQ5D"
   },
   "source": [
    "# Find unique tokens."
   ]
  },
  {
   "cell_type": "code",
   "execution_count": 41,
   "metadata": {
    "colab": {
     "base_uri": "https://localhost:8080/",
     "height": 32
    },
    "colab_type": "code",
    "executionInfo": {
     "elapsed": 4108,
     "status": "ok",
     "timestamp": 1580958051796,
     "user": {
      "displayName": "Konstantin Lekomtsev",
      "photoUrl": "",
      "userId": "02021487482276961340"
     },
     "user_tz": 480
    },
    "id": "12m60B1uQ71Y",
    "outputId": "e2acb52b-fe47-46ed-a800-3076a6d30428"
   },
   "outputs": [
    {
     "name": "stdout",
     "output_type": "stream",
     "text": [
      "Vocab-size: 48694\n"
     ]
    }
   ],
   "source": [
    "from collections import Counter\n",
    "import tensorflow_datasets as tfds\n",
    "\n",
    "tokenizer = tfds.features.text.Tokenizer()\n",
    "token_counts = Counter()\n",
    "\n",
    "for example in ds_raw_train:\n",
    "    tokens = tokenizer.tokenize(example[0].numpy()[0])\n",
    "    token_counts.update(tokens)\n",
    "    \n",
    "print('Vocab-size:', len(token_counts))"
   ]
  },
  {
   "cell_type": "markdown",
   "metadata": {
    "colab_type": "text",
    "id": "wn7zKLwUck9m"
   },
   "source": [
    "# Encoding each unique token into integers."
   ]
  },
  {
   "cell_type": "code",
   "execution_count": 0,
   "metadata": {
    "colab": {},
    "colab_type": "code",
    "id": "tkmL-bnKcJo8"
   },
   "outputs": [],
   "source": [
    "encoder = tfds.features.text.TokenTextEncoder(token_counts)"
   ]
  },
  {
   "cell_type": "code",
   "execution_count": 44,
   "metadata": {
    "colab": {
     "base_uri": "https://localhost:8080/",
     "height": 32
    },
    "colab_type": "code",
    "executionInfo": {
     "elapsed": 491,
     "status": "ok",
     "timestamp": 1580958255109,
     "user": {
      "displayName": "Konstantin Lekomtsev",
      "photoUrl": "",
      "userId": "02021487482276961340"
     },
     "user_tz": 480
    },
    "id": "emSW_n1jc8_a",
    "outputId": "797a9830-af94-4239-8e50-98633b756474"
   },
   "outputs": [
    {
     "data": {
      "text/plain": [
       "[453, 324, 571]"
      ]
     },
     "execution_count": 44,
     "metadata": {
      "tags": []
     },
     "output_type": "execute_result"
    }
   ],
   "source": [
    "example_str = 'read watch although'\n",
    "encoder.encode(example_str)"
   ]
  },
  {
   "cell_type": "markdown",
   "metadata": {
    "colab_type": "text",
    "id": "k4Pq2WKodojE"
   },
   "source": [
    "# Define the function for transformation."
   ]
  },
  {
   "cell_type": "code",
   "execution_count": 0,
   "metadata": {
    "colab": {},
    "colab_type": "code",
    "id": "xmc4RFoYdnxF"
   },
   "outputs": [],
   "source": [
    "def encode(text_tensor, label):\n",
    "    text = text_tensor.numpy()[0]\n",
    "    encoded_text = encoder.encode(text)\n",
    "    return encoded_text, label\n",
    "\n",
    "## Step 3-B: wrap the encode function to a TF Op.\n",
    "def encode_map_fn(text, label):\n",
    "    return tf.py_function(encode, inp=[text, label], \n",
    "                          Tout=(tf.int64, tf.int64))"
   ]
  },
  {
   "cell_type": "code",
   "execution_count": 46,
   "metadata": {
    "colab": {
     "base_uri": "https://localhost:8080/",
     "height": 247
    },
    "colab_type": "code",
    "executionInfo": {
     "elapsed": 902,
     "status": "ok",
     "timestamp": 1580958433891,
     "user": {
      "displayName": "Konstantin Lekomtsev",
      "photoUrl": "",
      "userId": "02021487482276961340"
     },
     "user_tz": 480
    },
    "id": "M78kFXiQcu2Q",
    "outputId": "18da902c-abb7-4396-8a68-4f2d4bb4fef3"
   },
   "outputs": [
    {
     "name": "stdout",
     "output_type": "stream",
     "text": [
      "Sequence length: (13,)\n",
      "Sequence length: (93,)\n",
      "Sequence length: (121,)\n",
      "Sequence length: (306,)\n",
      "Sequence length: (64,)\n"
     ]
    },
    {
     "data": {
      "text/plain": [
       "(<tf.Tensor: shape=(64,), dtype=int64, numpy=\n",
       " array([  980,   579,   444,     3,   361,   114,     2,     3,   518,\n",
       "          202,   553,  2818,    43,  6616,   201,   271,   250, 10849,\n",
       "          136,  1226,   377,   104,  2858,  1777,  2607,  1791,  2421,\n",
       "          800,   424,  5181,  1943,    53,   488,   396,   179,   356,\n",
       "          728,   431,  3673,    26,     9,   143,   486,   188,  1051,\n",
       "        10850,   567,     2,   173,   173,   639,   505,   190, 10851,\n",
       "         7514,   441,   315,   639,   147,   470,  1314,  6102, 10275,\n",
       "           83])>, <tf.Tensor: shape=(), dtype=int64, numpy=0>)"
      ]
     },
     "execution_count": 46,
     "metadata": {
      "tags": []
     },
     "output_type": "execute_result"
    }
   ],
   "source": [
    "ds_train = ds_raw_train.map(encode_map_fn)\n",
    "ds_valid = ds_raw_valid.map(encode_map_fn)\n",
    "ds_test = ds_raw_test.map(encode_map_fn)\n",
    "\n",
    "tf.random.set_seed(1)\n",
    "for example in ds_train.shuffle(1000).take(5):\n",
    "    print('Sequence length:', example[0].shape)\n",
    "    \n",
    "example"
   ]
  },
  {
   "cell_type": "markdown",
   "metadata": {
    "colab_type": "text",
    "id": "P5VE7ia9ermW"
   },
   "source": [
    "# Batching the dataset."
   ]
  },
  {
   "cell_type": "code",
   "execution_count": 0,
   "metadata": {
    "colab": {},
    "colab_type": "code",
    "id": "FKGly-Rwdz29"
   },
   "outputs": [],
   "source": [
    "train_data = ds_train.padded_batch(\n",
    "    32, padded_shapes=([-1],[]))\n",
    "\n",
    "valid_data = ds_valid.padded_batch(\n",
    "    32, padded_shapes=([-1],[]))\n",
    "\n",
    "test_data = ds_test.padded_batch(\n",
    "    32, padded_shapes=([-1],[]))"
   ]
  },
  {
   "cell_type": "code",
   "execution_count": 0,
   "metadata": {
    "colab": {},
    "colab_type": "code",
    "id": "j5fnECNofHf6"
   },
   "outputs": [],
   "source": []
  },
  {
   "cell_type": "markdown",
   "metadata": {
    "colab_type": "text",
    "id": "qWBp2i7fizU8"
   },
   "source": [
    "# RNN model."
   ]
  },
  {
   "cell_type": "code",
   "execution_count": 53,
   "metadata": {
    "colab": {
     "base_uri": "https://localhost:8080/",
     "height": 658
    },
    "colab_type": "code",
    "executionInfo": {
     "elapsed": 472345,
     "status": "ok",
     "timestamp": 1580960337810,
     "user": {
      "displayName": "Konstantin Lekomtsev",
      "photoUrl": "",
      "userId": "02021487482276961340"
     },
     "user_tz": 480
    },
    "id": "1QDCtdS-e2IB",
    "outputId": "77b28ccf-98e6-42f1-eb31-4ebc6941b93a"
   },
   "outputs": [
    {
     "name": "stdout",
     "output_type": "stream",
     "text": [
      "Model: \"sequential_1\"\n",
      "_________________________________________________________________\n",
      "Layer (type)                 Output Shape              Param #   \n",
      "=================================================================\n",
      "embed-layer (Embedding)      (None, None, 50)          2434800   \n",
      "_________________________________________________________________\n",
      "bidir-lstm (Bidirectional)   (None, 256)               183296    \n",
      "_________________________________________________________________\n",
      "dense_2 (Dense)              (None, 128)               32896     \n",
      "_________________________________________________________________\n",
      "dense_3 (Dense)              (None, 1)                 129       \n",
      "=================================================================\n",
      "Total params: 2,651,121\n",
      "Trainable params: 2,651,121\n",
      "Non-trainable params: 0\n",
      "_________________________________________________________________\n",
      "Train for 625 steps, validate for 157 steps\n",
      "Epoch 1/10\n",
      "625/625 [==============================] - 47s 76ms/step - loss: 0.4448 - accuracy: 0.7915 - val_loss: 0.3042 - val_accuracy: 0.8786\n",
      "Epoch 2/10\n",
      "625/625 [==============================] - 45s 72ms/step - loss: 0.2254 - accuracy: 0.9189 - val_loss: 0.4317 - val_accuracy: 0.8282\n",
      "Epoch 3/10\n",
      "625/625 [==============================] - 45s 72ms/step - loss: 0.1385 - accuracy: 0.9524 - val_loss: 0.4029 - val_accuracy: 0.8656\n",
      "Epoch 4/10\n",
      "625/625 [==============================] - 45s 72ms/step - loss: 0.0944 - accuracy: 0.9686 - val_loss: 0.4710 - val_accuracy: 0.8462\n",
      "Epoch 5/10\n",
      "625/625 [==============================] - 45s 72ms/step - loss: 0.0812 - accuracy: 0.9750 - val_loss: 0.5338 - val_accuracy: 0.8364\n",
      "Epoch 6/10\n",
      "625/625 [==============================] - 45s 72ms/step - loss: 0.0815 - accuracy: 0.9753 - val_loss: 0.4966 - val_accuracy: 0.8498\n",
      "Epoch 7/10\n",
      "625/625 [==============================] - 45s 72ms/step - loss: 0.0574 - accuracy: 0.9817 - val_loss: 0.6836 - val_accuracy: 0.8426\n",
      "Epoch 8/10\n",
      "625/625 [==============================] - 45s 72ms/step - loss: 0.0354 - accuracy: 0.9894 - val_loss: 1.4870 - val_accuracy: 0.8098\n",
      "Epoch 9/10\n",
      "625/625 [==============================] - 45s 72ms/step - loss: 0.0602 - accuracy: 0.9800 - val_loss: 0.6468 - val_accuracy: 0.8408\n",
      "Epoch 10/10\n",
      "625/625 [==============================] - 45s 72ms/step - loss: 0.0219 - accuracy: 0.9934 - val_loss: 0.7784 - val_accuracy: 0.8162\n",
      "782/782 [==============================] - 18s 23ms/step - loss: 0.7630 - accuracy: 0.8166\n",
      "Test Acc.: 81.66%\n"
     ]
    }
   ],
   "source": [
    "from tensorflow.keras import Sequential\n",
    "from tensorflow.keras.layers import Embedding\n",
    "from tensorflow.keras.layers import SimpleRNN\n",
    "from tensorflow.keras.layers import Dense\n",
    "\n",
    "embedding_dim = 50\n",
    "vocab_size = len(token_counts) + 2\n",
    "\n",
    "tf.random.set_seed(1)\n",
    "\n",
    "## build the model\n",
    "bi_lstm_model = tf.keras.Sequential([\n",
    "    tf.keras.layers.Embedding(\n",
    "        input_dim=vocab_size,\n",
    "        output_dim=embedding_dim,\n",
    "        name='embed-layer'),\n",
    "    \n",
    "    tf.keras.layers.Bidirectional(\n",
    "        tf.keras.layers.LSTM(128, name='lstm-layer'),\n",
    "        name='bidir-lstm'), \n",
    "\n",
    "    tf.keras.layers.Dense(128, activation='relu'),\n",
    "    \n",
    "    tf.keras.layers.Dense(1, activation='sigmoid')\n",
    "])\n",
    "\n",
    "bi_lstm_model.summary()\n",
    "\n",
    "## compile and train:\n",
    "bi_lstm_model.compile(\n",
    "    optimizer=tf.keras.optimizers.Adam(1e-3),\n",
    "    loss=tf.keras.losses.BinaryCrossentropy(from_logits=False),\n",
    "    metrics=['accuracy'])\n",
    "\n",
    "history = bi_lstm_model.fit(\n",
    "    train_data, \n",
    "    validation_data=valid_data, \n",
    "    epochs=10)\n",
    "\n",
    "## evaluate on the test data\n",
    "test_results= bi_lstm_model.evaluate(test_data)\n",
    "print('Test Acc.: {:.2f}%'.format(test_results[1]*100))"
   ]
  },
  {
   "cell_type": "code",
   "execution_count": 0,
   "metadata": {
    "colab": {},
    "colab_type": "code",
    "id": "vQPupmRcfRsi"
   },
   "outputs": [],
   "source": [
    "import matplotlib.pyplot as plt\n",
    "def plot_train_valid(model_history):\n",
    "    hist = model_history.history\n",
    "    x_arr = np.arange(len(hist['loss'])) + 1\n",
    "\n",
    "    fig = plt.figure(figsize=(12, 4))\n",
    "    ax = fig.add_subplot(1, 2, 1)\n",
    "    ax.plot(x_arr, hist['loss'], '-o', label='Train loss')\n",
    "    ax.plot(x_arr, hist['val_loss'], '--<', label='Validation loss')\n",
    "    ax.legend(fontsize=15)\n",
    "    ax.set_xlabel('Epoch', size=15)\n",
    "    ax.set_ylabel('Loss', size=15)\n",
    "\n",
    "    ax = fig.add_subplot(1, 2, 2)\n",
    "    ax.plot(x_arr, hist['accuracy'], '-o', label='Train acc.')\n",
    "    ax.plot(x_arr, hist['val_accuracy'], '--<', label='Validation acc.')\n",
    "    ax.legend(fontsize=15)\n",
    "    ax.set_xlabel('Epoch', size=15)\n",
    "    ax.set_ylabel('Accuracy', size=15)\n",
    "\n",
    "    return plt.show()"
   ]
  },
  {
   "cell_type": "code",
   "execution_count": 55,
   "metadata": {
    "colab": {
     "base_uri": "https://localhost:8080/",
     "height": 283
    },
    "colab_type": "code",
    "executionInfo": {
     "elapsed": 461418,
     "status": "ok",
     "timestamp": 1580960338359,
     "user": {
      "displayName": "Konstantin Lekomtsev",
      "photoUrl": "",
      "userId": "02021487482276961340"
     },
     "user_tz": 480
    },
    "id": "aK8UNT1CiXLV",
    "outputId": "d16c63b7-5156-4cd4-e061-068938efc329"
   },
   "outputs": [
    {
     "data": {
      "image/png": "[encoded data removed]",
      "text/plain": [
       "<Figure size 864x288 with 2 Axes>"
      ]
     },
     "metadata": {
      "tags": []
     },
     "output_type": "display_data"
    }
   ],
   "source": [
    "plot_train_valid(history)"
   ]
  },
  {
   "cell_type": "code",
   "execution_count": 0,
   "metadata": {
    "colab": {},
    "colab_type": "code",
    "id": "Guh-aysqigTu"
   },
   "outputs": [],
   "source": []
  }
 ],
 "metadata": {
  "accelerator": "GPU",
  "colab": {
   "name": "sentiment_analysis.ipynb",
   "provenance": []
  },
  "kernelspec": {
   "display_name": "Python 3",
   "language": "python",
   "name": "python3"
  },
  "language_info": {
   "codemirror_mode": {
    "name": "ipython",
    "version": 3
   },
   "file_extension": ".py",
   "mimetype": "text/x-python",
   "name": "python",
   "nbconvert_exporter": "python",
   "pygments_lexer": "ipython3",
   "version": "3.7.4"
  }
 },
 "nbformat": 4,
 "nbformat_minor": 1
}
