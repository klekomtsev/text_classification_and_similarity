{
 "cells": [
  {
   "cell_type": "markdown",
   "metadata": {
    "colab_type": "text",
    "id": "1x6FtFvML0OL"
   },
   "source": [
    "# Gender classification by first name."
   ]
  },
  {
   "cell_type": "markdown",
   "metadata": {
    "colab_type": "text",
    "id": "OFyxuQplZ0WP"
   },
   "source": [
    "**Goal:** classify a person's first name as male or female.\n",
    "\n",
    "**Info about the dataset:** 5000 names of Indian origin. 2662 are male, 2365 are female.\n",
    "\n",
    "**Approach:** \n",
    "\n",
    "- Apply Naive Bayes classifier in the last letter, last two letters, and the first letter of the names.\n",
    "\n",
    "- Use term-frequency times inverse document-frequency (tfidf) vectorization with 2-gram and 3-gram sequences to cerate features for SVM classifier and Multilayer Perceptron classifier.\n",
    "\n",
    "- Use simple integer encoding and apply a recurrent neural network with one and multiple Long short-term memory (LSTM) layers.\n",
    "\n",
    "**Results:**\n",
    "\n",
    "| **Model** | AUC (test)| \n",
    "|--------------------|----------|\n",
    "|NB, last letter      |   0.85   |\n",
    "|NB, last two letters |   0.88   |\n",
    "|NB, first letter     |   0.55   |\n",
    "|SVM, tfidf vect.     |   0.82   |\n",
    "|MLP, tfidf vect.     |   0.73   |\n",
    "|LSTM, integer vect.  |   0.9    |\n",
    "|multi LSTM, integer vect.  |   0.9    |\n",
    "\n",
    "**Conclusions:**\n",
    "\n",
    "The top performer was a recurrent neural network with one LSTM bi-directional layer. It is worth noting that a simple approach using Naive Bayes classifier on the last two letters was the second best.\n"
   ]
  },
  {
   "cell_type": "code",
   "execution_count": 2,
   "metadata": {
    "colab": {
     "base_uri": "https://localhost:8080/",
     "height": 32
    },
    "colab_type": "code",
    "executionInfo": {
     "elapsed": 3321,
     "status": "ok",
     "timestamp": 1586126511931,
     "user": {
      "displayName": "Konstantin Lekomtsev",
      "photoUrl": "",
      "userId": "02021487482276961340"
     },
     "user_tz": 420
    },
    "id": "r9mYz1dMWzR7",
    "outputId": "b45591f9-7f78-4682-8eba-f7f67a2aeb0c"
   },
   "outputs": [
    {
     "name": "stderr",
     "output_type": "stream",
     "text": [
      "Using TensorFlow backend.\n"
     ]
    }
   ],
   "source": [
    "%tensorflow_version 2.x\n",
    "from sklearn.preprocessing import OneHotEncoder\n",
    "import pandas as pd\n",
    "import numpy as np\n",
    "import matplotlib.pyplot as plt\n",
    "from tensorflow.keras import Sequential\n",
    "from tensorflow.keras.layers import Embedding\n",
    "from tensorflow.keras.layers import SimpleRNN\n",
    "from tensorflow.keras.layers import Dense\n",
    "from sklearn.naive_bayes import MultinomialNB\n",
    "from sklearn.model_selection import train_test_split\n",
    "from sklearn.metrics import precision_score, recall_score, f1_score\n",
    "from sklearn.metrics import classification_report\n",
    "from sklearn.feature_extraction.text import TfidfVectorizer\n",
    "import random\n",
    "import tensorflow as tf\n",
    "from sklearn.feature_extraction.text import TfidfVectorizer\n",
    "import string\n",
    "from sklearn.svm import SVC\n",
    "from keras.preprocessing.text import Tokenizer\n",
    "from keras.preprocessing.sequence import pad_sequences\n",
    "import re\n",
    "from sklearn.metrics import roc_auc_score\n",
    "from tensorflow.keras import backend as K\n",
    "from sklearn.metrics import confusion_matrix\n",
    "%matplotlib inline"
   ]
  },
  {
   "cell_type": "code",
   "execution_count": 3,
   "metadata": {
    "colab": {
     "base_uri": "https://localhost:8080/",
     "height": 32
    },
    "colab_type": "code",
    "executionInfo": {
     "elapsed": 511,
     "status": "ok",
     "timestamp": 1586126512304,
     "user": {
      "displayName": "Konstantin Lekomtsev",
      "photoUrl": "",
      "userId": "02021487482276961340"
     },
     "user_tz": 420
    },
    "id": "Uy14jzVgWzUR",
    "outputId": "50e86b15-caae-4b30-9cbc-3f02e5758e6a"
   },
   "outputs": [
    {
     "name": "stdout",
     "output_type": "stream",
     "text": [
      "2.2.0-rc2\n"
     ]
    }
   ],
   "source": [
    "print(tf.__version__)"
   ]
  },
  {
   "cell_type": "code",
   "execution_count": null,
   "metadata": {
    "colab": {
     "base_uri": "https://localhost:8080/",
     "height": 118
    },
    "colab_type": "code",
    "executionInfo": {
     "elapsed": 25216,
     "status": "ok",
     "timestamp": 1586126538556,
     "user": {
      "displayName": "Konstantin Lekomtsev",
      "photoUrl": "",
      "userId": "02021487482276961340"
     },
     "user_tz": 420
    },
    "id": "I_0aCOsAXrBf",
    "outputId": "fc43d42b-eca7-439a-f2c9-1b8e36f1c470"
   },
   "outputs": [],
   "source": [
    "from google.colab import drive\n",
    "drive.mount('/content/gdrive')"
   ]
  },
  {
   "cell_type": "code",
   "execution_count": 0,
   "metadata": {
    "colab": {},
    "colab_type": "code",
    "id": "l3WB8c6pXNaV"
   },
   "outputs": [],
   "source": [
    "# Load dataset\n",
    "names = pd.read_csv('/content/gdrive/My Drive/Colab Notebooks/capstone2/gender_classification/names.csv')\n",
    "\n",
    "# Remove all non-word characters and comvert to lower case\n",
    "names['Name'] = names['Name'].map(lambda name: re.sub(r'\\W+', '', name))\n",
    "names['Name'] = names['Name'].str.lower()\n",
    "names['FirstLetter'] = names['FirstLetter'].str.lower()\n",
    "\n",
    "# Remap gender\n",
    "gender_remapping = {1: 0, 2: 1}\n",
    "names['Gender'] = names['Gender'].map(gender_remapping)"
   ]
  },
  {
   "cell_type": "code",
   "execution_count": 6,
   "metadata": {
    "colab": {
     "base_uri": "https://localhost:8080/",
     "height": 201
    },
    "colab_type": "code",
    "executionInfo": {
     "elapsed": 1407,
     "status": "ok",
     "timestamp": 1586126544646,
     "user": {
      "displayName": "Konstantin Lekomtsev",
      "photoUrl": "",
      "userId": "02021487482276961340"
     },
     "user_tz": 420
    },
    "id": "StaussdnWzSR",
    "outputId": "a6dbfb91-f134-4652-dad1-b37c1260a91c"
   },
   "outputs": [
    {
     "data": {
      "text/html": [
       "<div>\n",
       "<style scoped>\n",
       "    .dataframe tbody tr th:only-of-type {\n",
       "        vertical-align: middle;\n",
       "    }\n",
       "\n",
       "    .dataframe tbody tr th {\n",
       "        vertical-align: top;\n",
       "    }\n",
       "\n",
       "    .dataframe thead th {\n",
       "        text-align: right;\n",
       "    }\n",
       "</style>\n",
       "<table border=\"1\" class=\"dataframe\">\n",
       "  <thead>\n",
       "    <tr style=\"text-align: right;\">\n",
       "      <th></th>\n",
       "      <th>Name</th>\n",
       "      <th>Gender</th>\n",
       "      <th>LastLetter</th>\n",
       "      <th>LastTwoLetter</th>\n",
       "      <th>FirstLetter</th>\n",
       "    </tr>\n",
       "  </thead>\n",
       "  <tbody>\n",
       "    <tr>\n",
       "      <th>0</th>\n",
       "      <td>ashutosh</td>\n",
       "      <td>0</td>\n",
       "      <td>h</td>\n",
       "      <td>sh</td>\n",
       "      <td>a</td>\n",
       "    </tr>\n",
       "    <tr>\n",
       "      <th>1</th>\n",
       "      <td>meghamala</td>\n",
       "      <td>1</td>\n",
       "      <td>a</td>\n",
       "      <td>la</td>\n",
       "      <td>m</td>\n",
       "    </tr>\n",
       "    <tr>\n",
       "      <th>2</th>\n",
       "      <td>sahib</td>\n",
       "      <td>0</td>\n",
       "      <td>b</td>\n",
       "      <td>ib</td>\n",
       "      <td>s</td>\n",
       "    </tr>\n",
       "    <tr>\n",
       "      <th>3</th>\n",
       "      <td>pragya</td>\n",
       "      <td>1</td>\n",
       "      <td>a</td>\n",
       "      <td>ya</td>\n",
       "      <td>p</td>\n",
       "    </tr>\n",
       "    <tr>\n",
       "      <th>4</th>\n",
       "      <td>kranti</td>\n",
       "      <td>1</td>\n",
       "      <td>i</td>\n",
       "      <td>ti</td>\n",
       "      <td>k</td>\n",
       "    </tr>\n",
       "  </tbody>\n",
       "</table>\n",
       "</div>"
      ],
      "text/plain": [
       "        Name  Gender LastLetter LastTwoLetter FirstLetter\n",
       "0   ashutosh       0          h            sh           a\n",
       "1  meghamala       1          a            la           m\n",
       "2      sahib       0          b            ib           s\n",
       "3     pragya       1          a            ya           p\n",
       "4     kranti       1          i            ti           k"
      ]
     },
     "execution_count": 6,
     "metadata": {
      "tags": []
     },
     "output_type": "execute_result"
    }
   ],
   "source": [
    "names.head(5)"
   ]
  },
  {
   "cell_type": "code",
   "execution_count": 7,
   "metadata": {
    "colab": {
     "base_uri": "https://localhost:8080/",
     "height": 65
    },
    "colab_type": "code",
    "executionInfo": {
     "elapsed": 466,
     "status": "ok",
     "timestamp": 1586126546479,
     "user": {
      "displayName": "Konstantin Lekomtsev",
      "photoUrl": "",
      "userId": "02021487482276961340"
     },
     "user_tz": 420
    },
    "id": "ApxYFuvqwR-0",
    "outputId": "abce786c-9a3c-4052-e219-f2d8a19949f9"
   },
   "outputs": [
    {
     "data": {
      "text/plain": [
       "0    2662\n",
       "1    2365\n",
       "Name: Gender, dtype: int64"
      ]
     },
     "execution_count": 7,
     "metadata": {
      "tags": []
     },
     "output_type": "execute_result"
    }
   ],
   "source": [
    "# Count the number of entries corresponding to male (1) and female (2) names.\n",
    "names.Gender.value_counts()"
   ]
  },
  {
   "cell_type": "markdown",
   "metadata": {
    "colab_type": "text",
    "id": "QnT8Eg50WzSq"
   },
   "source": [
    "# Naive Bayes on the last letter"
   ]
  },
  {
   "cell_type": "code",
   "execution_count": 0,
   "metadata": {
    "colab": {},
    "colab_type": "code",
    "id": "WHpYA_fgWzSw"
   },
   "outputs": [],
   "source": [
    "# Get last letters and labels\n",
    "last_letter = names.LastLetter.values\n",
    "labels = names.Gender.values"
   ]
  },
  {
   "cell_type": "code",
   "execution_count": 0,
   "metadata": {
    "colab": {},
    "colab_type": "code",
    "id": "QXMIOUQWWzTk"
   },
   "outputs": [],
   "source": [
    "def naive_bayes_classifier(features, labels):\n",
    "    '''This function splits the datset into train and test sets,\n",
    "    performs one-hot encoding of the characters,\n",
    "    and fits Naive Bayes classifier, the accuracies of \n",
    "    testing and training as well as classification report\n",
    "    are printed out. '''\n",
    "    \n",
    "    # Split the data into a training and test set.\n",
    "    X_train, X_test, y_train, y_test = train_test_split(features.reshape(-1, 1), \n",
    "                                                        labels.reshape(-1, 1).ravel(), \n",
    "                                                        test_size = 0.3,\n",
    "                                                        stratify = labels)\n",
    "\n",
    "    encoder = OneHotEncoder(handle_unknown='ignore')\n",
    "    X_train = encoder.fit_transform(X_train)\n",
    "    X_test = encoder.transform(X_test)\n",
    "\n",
    "    nb_clf = MultinomialNB()\n",
    "\n",
    "    # Fit the model on the trainng data.\n",
    "    nb_clf.fit(X_train, y_train)\n",
    "\n",
    "    print('AUC score for the training data:', \n",
    "      roc_auc_score(y_true = y_train, y_score = nb_clf.predict_proba(X_train)[:,1]))\n",
    "    print('AUC score for the test data:', \n",
    "      roc_auc_score(y_true = y_test, y_score = nb_clf.predict_proba(X_test)[:,1]))\n",
    "\n",
    "    # Print the accuracy from the training data.\n",
    "    print('Accuracy for the train data:', \n",
    "          nb_clf.score(X_train, y_train))\n",
    "\n",
    "    # Print the accuracy from the testing data.\n",
    "    print('Accuracy for the test data:', \n",
    "          nb_clf.score(X_test, y_test))\n",
    "    \n",
    "    # Print classification report based on test data\n",
    "    print(classification_report(y_true=y_test, \n",
    "                                y_pred=nb_clf.predict(X_test)))\n"
   ]
  },
  {
   "cell_type": "code",
   "execution_count": 10,
   "metadata": {
    "colab": {
     "base_uri": "https://localhost:8080/",
     "height": 230
    },
    "colab_type": "code",
    "executionInfo": {
     "elapsed": 1506,
     "status": "ok",
     "timestamp": 1586126551364,
     "user": {
      "displayName": "Konstantin Lekomtsev",
      "photoUrl": "",
      "userId": "02021487482276961340"
     },
     "user_tz": 420
    },
    "id": "FG7RGjjE4Roa",
    "outputId": "1c2e85ad-2f3e-4921-9687-a931e110e057"
   },
   "outputs": [
    {
     "name": "stdout",
     "output_type": "stream",
     "text": [
      "AUC score for the training data: 0.8582781564348184\n",
      "AUC score for the test data: 0.8491256676479403\n",
      "Accuracy for the train data: 0.824332006822058\n",
      "Accuracy for the test data: 0.8131212723658051\n",
      "              precision    recall  f1-score   support\n",
      "\n",
      "           0       0.89      0.74      0.81       799\n",
      "           1       0.75      0.90      0.82       710\n",
      "\n",
      "    accuracy                           0.81      1509\n",
      "   macro avg       0.82      0.82      0.81      1509\n",
      "weighted avg       0.83      0.81      0.81      1509\n",
      "\n"
     ]
    }
   ],
   "source": [
    "naive_bayes_classifier(last_letter, labels)"
   ]
  },
  {
   "cell_type": "markdown",
   "metadata": {
    "colab_type": "text",
    "id": "amPezSeDWzTq"
   },
   "source": [
    "# Naive Bayes on the last two letters"
   ]
  },
  {
   "cell_type": "code",
   "execution_count": 0,
   "metadata": {
    "colab": {},
    "colab_type": "code",
    "id": "zdHRoW6LWzTr"
   },
   "outputs": [],
   "source": [
    "# Get last two letters\n",
    "last_two_letters = names.LastTwoLetter.values"
   ]
  },
  {
   "cell_type": "code",
   "execution_count": 12,
   "metadata": {
    "colab": {
     "base_uri": "https://localhost:8080/",
     "height": 230
    },
    "colab_type": "code",
    "executionInfo": {
     "elapsed": 913,
     "status": "ok",
     "timestamp": 1586126555353,
     "user": {
      "displayName": "Konstantin Lekomtsev",
      "photoUrl": "",
      "userId": "02021487482276961340"
     },
     "user_tz": 420
    },
    "id": "O2rmHzqMWzT3",
    "outputId": "966cf2f3-ed2e-4000-baaf-a110f73f00e8"
   },
   "outputs": [
    {
     "name": "stdout",
     "output_type": "stream",
     "text": [
      "AUC score for the training data: 0.9000504335501489\n",
      "AUC score for the test data: 0.884389818258739\n",
      "Accuracy for the train data: 0.8376918703808982\n",
      "Accuracy for the test data: 0.8277004638833665\n",
      "              precision    recall  f1-score   support\n",
      "\n",
      "           0       0.88      0.78      0.83       799\n",
      "           1       0.78      0.88      0.83       710\n",
      "\n",
      "    accuracy                           0.83      1509\n",
      "   macro avg       0.83      0.83      0.83      1509\n",
      "weighted avg       0.83      0.83      0.83      1509\n",
      "\n"
     ]
    }
   ],
   "source": [
    "naive_bayes_classifier(last_two_letters, labels)"
   ]
  },
  {
   "cell_type": "markdown",
   "metadata": {
    "colab_type": "text",
    "id": "t0UFOPTmWzT-"
   },
   "source": [
    "# Naive Bayes on the first letter"
   ]
  },
  {
   "cell_type": "code",
   "execution_count": 0,
   "metadata": {
    "colab": {},
    "colab_type": "code",
    "id": "4SA-TVljWzUA"
   },
   "outputs": [],
   "source": [
    "# Get first letter from each name\n",
    "first_letter = names.FirstLetter.values"
   ]
  },
  {
   "cell_type": "code",
   "execution_count": 14,
   "metadata": {
    "colab": {
     "base_uri": "https://localhost:8080/",
     "height": 230
    },
    "colab_type": "code",
    "executionInfo": {
     "elapsed": 1454,
     "status": "ok",
     "timestamp": 1586126558937,
     "user": {
      "displayName": "Konstantin Lekomtsev",
      "photoUrl": "",
      "userId": "02021487482276961340"
     },
     "user_tz": 420
    },
    "id": "wrgSkY1vWzUL",
    "outputId": "d840eeab-f9fb-4129-b77d-65be3a6050e3"
   },
   "outputs": [
    {
     "name": "stdout",
     "output_type": "stream",
     "text": [
      "AUC score for the training data: 0.5802483730720519\n",
      "AUC score for the test data: 0.5477956600680428\n",
      "Accuracy for the train data: 0.5596930073905628\n",
      "Accuracy for the test data: 0.532803180914513\n",
      "              precision    recall  f1-score   support\n",
      "\n",
      "           0       0.55      0.69      0.61       799\n",
      "           1       0.50      0.36      0.42       710\n",
      "\n",
      "    accuracy                           0.53      1509\n",
      "   macro avg       0.53      0.52      0.51      1509\n",
      "weighted avg       0.53      0.53      0.52      1509\n",
      "\n"
     ]
    }
   ],
   "source": [
    "naive_bayes_classifier(first_letter, labels)"
   ]
  },
  {
   "cell_type": "markdown",
   "metadata": {
    "colab_type": "text",
    "id": "ElxxBxspAoBT"
   },
   "source": [
    "# SVM on tfidf vectorized dataset"
   ]
  },
  {
   "cell_type": "code",
   "execution_count": 0,
   "metadata": {
    "colab": {},
    "colab_type": "code",
    "id": "s06OkkqS-qsZ"
   },
   "outputs": [],
   "source": [
    "def svm_classifier(df):\n",
    "    '''This function splits the datset into train and test sets,\n",
    "    performs encoding of the characters using TfidfVectorizer,\n",
    "    and fits SVM classifier, the accuracies of \n",
    "    testing and training as well as classification report\n",
    "    are printed out. '''\n",
    "\n",
    "    labels = (df.Gender == 1).values.astype(np.int)\n",
    "    features = df.Name\n",
    "\n",
    "    # Split the data into a training and test set.\n",
    "    X_train, X_test, y_train, y_test = train_test_split(features, \n",
    "                                                        labels.reshape(-1, 1).ravel(), \n",
    "                                                        test_size = 0.3,\n",
    "                                                        stratify = labels)\n",
    "\n",
    "    vectorizer = TfidfVectorizer(min_df=0.0, analyzer='char', \n",
    "                                 ngram_range=(2, 3), \n",
    "                                 decode_error='ignore')\n",
    "    X_train = vectorizer.fit_transform(X_train)\n",
    "    X_test = vectorizer.transform(X_test)\n",
    "\n",
    "    # Define a default SVM classifier\n",
    "    svm_clf = SVC(probability = True)\n",
    "\n",
    "    # Fit the model on the training data.\n",
    "    svm_clf.fit(X_train, y_train)\n",
    "\n",
    "    print('AUC score for the training data:', \n",
    "      roc_auc_score(y_true = y_train, y_score = svm_clf.predict_proba(X_train)[:,1]))\n",
    "    print('AUC score for the test data:', \n",
    "      roc_auc_score(y_true = y_test, y_score = svm_clf.predict_proba(X_test)[:,1]))\n",
    "\n",
    "    # Print the accuracy from the training data.\n",
    "    print('Accuracy for the train data:', \n",
    "          svm_clf.score(X_train, y_train))\n",
    "\n",
    "    # Print the accuracy from the testing data.\n",
    "    print('Accuracy for the test data:', \n",
    "          svm_clf.score(X_test, y_test))\n",
    "    \n",
    "    # Print classification report based on test data\n",
    "    print(classification_report(y_true=y_test, \n",
    "                                y_pred=svm_clf.predict(X_test)))"
   ]
  },
  {
   "cell_type": "code",
   "execution_count": 16,
   "metadata": {
    "colab": {
     "base_uri": "https://localhost:8080/",
     "height": 230
    },
    "colab_type": "code",
    "executionInfo": {
     "elapsed": 14028,
     "status": "ok",
     "timestamp": 1586126579668,
     "user": {
      "displayName": "Konstantin Lekomtsev",
      "photoUrl": "",
      "userId": "02021487482276961340"
     },
     "user_tz": 420
    },
    "id": "7WXVvCQrD8Va",
    "outputId": "540330a3-0300-482f-85cc-684f9230a81c"
   },
   "outputs": [
    {
     "name": "stdout",
     "output_type": "stream",
     "text": [
      "AUC score for the training data: 0.9877788642883436\n",
      "AUC score for the test data: 0.8152593911403337\n",
      "Accuracy for the train data: 0.9417282546901649\n",
      "Accuracy for the test data: 0.7369118621603711\n",
      "              precision    recall  f1-score   support\n",
      "\n",
      "           0       0.74      0.78      0.76       799\n",
      "           1       0.73      0.69      0.71       710\n",
      "\n",
      "    accuracy                           0.74      1509\n",
      "   macro avg       0.74      0.73      0.73      1509\n",
      "weighted avg       0.74      0.74      0.74      1509\n",
      "\n"
     ]
    }
   ],
   "source": [
    "svm_classifier(names)"
   ]
  },
  {
   "cell_type": "markdown",
   "metadata": {
    "colab_type": "text",
    "id": "wS4PCgjFWzUV"
   },
   "source": [
    "# Train-test split, TfidfVectorized dataset (for multilayer perceptron network)\n",
    "\n",
    "\n"
   ]
  },
  {
   "cell_type": "code",
   "execution_count": 0,
   "metadata": {
    "colab": {},
    "colab_type": "code",
    "id": "xxgxpNRFOEZf"
   },
   "outputs": [],
   "source": [
    "def make_tfidf_train_test(df):   \n",
    "    '''This function splits dataset into train and test sets, \n",
    "    TfidfVectorizer is fitted on train and applied on test set,\n",
    "    then train, valid and test tensors are created, they are \n",
    "    returned together with the input shape.''' \n",
    "\n",
    "    labels = df.Gender.values.astype(np.int)\n",
    "    features = df.Name\n",
    "\n",
    "    # Using train_test_split() to get train and test datasets from intitial dataset\n",
    "    X_train, X_test, y_train, y_test = train_test_split(features, \n",
    "                                                        labels.reshape(-1, 1).ravel(), \n",
    "                                                        test_size = 0.3,\n",
    "                                                        stratify = labels)\n",
    "\n",
    "    vectorizer = TfidfVectorizer(min_df=0.0, \n",
    "                                 analyzer='char', \n",
    "                                 ngram_range=(2, 3), \n",
    "                                 decode_error='ignore')\n",
    "  \n",
    "    X_train = vectorizer.fit_transform(X_train).toarray()\n",
    "    X_test = vectorizer.transform(X_test).toarray()\n",
    "\n",
    "    tfidf_ds_train_valid = tf.data.Dataset.from_tensor_slices((X_train, y_train))\n",
    "    tfidf_ds_train = tfidf_ds_train_valid.take(int(0.7 * np.shape(X_train)[0]))\n",
    "    tfidf_ds_valid = tfidf_ds_train_valid.skip(int(0.7 * np.shape(X_train)[0]))\n",
    "    tfidf_ds_test = tf.data.Dataset.from_tensor_slices((X_test, y_test))\n",
    "\n",
    "    tfidf_input_shape = np.shape(X_train)[1]\n",
    "    tfidf_labels_true = y_test\n",
    "\n",
    "    return tfidf_ds_train, tfidf_ds_valid, tfidf_ds_test, tfidf_input_shape, tfidf_labels_true  "
   ]
  },
  {
   "cell_type": "code",
   "execution_count": 0,
   "metadata": {
    "colab": {},
    "colab_type": "code",
    "id": "5RvITBdwWzUZ"
   },
   "outputs": [],
   "source": [
    "tfidf_train_orig, tfidf_valid_orig, tfidf_test, tfidf_input_shape, tfidf_labels_true = make_tfidf_train_test(names)"
   ]
  },
  {
   "cell_type": "markdown",
   "metadata": {
    "colab_type": "text",
    "id": "7jLsI8XUcMIh"
   },
   "source": [
    "# Train-test split, integer encoded dataset (for recursive neural network)."
   ]
  },
  {
   "cell_type": "code",
   "execution_count": 0,
   "metadata": {
    "colab": {},
    "colab_type": "code",
    "id": "5ktEXNc-nOFx"
   },
   "outputs": [],
   "source": [
    "def char2sequence_mapping(data):\n",
    "    '''This function returns features for a recurrent network,\n",
    "    which is 2D numpy array containing integer encoded \n",
    "    first names with padding.'''\n",
    "\n",
    "    all_names = names['Name'].values\n",
    "\n",
    "    # Initialize character level tokenizer\n",
    "    tk = Tokenizer(num_words=None, \n",
    "                   char_level=True, \n",
    "                   oov_token='UNK')\n",
    "    # Fit on names\n",
    "    tk.fit_on_texts(all_names)\n",
    "\n",
    "    # Generate name sequences from tk.word_index\n",
    "    names_sequences = tk.texts_to_sequences(all_names)\n",
    "\n",
    "    # Generate padded sequences\n",
    "    names_sequences_padded = pad_sequences(names_sequences, \n",
    "                                       maxlen=30, \n",
    "                                       padding='post')\n",
    "\n",
    "    return names_sequences_padded"
   ]
  },
  {
   "cell_type": "code",
   "execution_count": 0,
   "metadata": {
    "colab": {},
    "colab_type": "code",
    "id": "84RUM6STaP2x"
   },
   "outputs": [],
   "source": [
    "rnn_features = char2sequence_mapping(names)"
   ]
  },
  {
   "cell_type": "code",
   "execution_count": 0,
   "metadata": {
    "colab": {},
    "colab_type": "code",
    "id": "3KGQoL0PRn43"
   },
   "outputs": [],
   "source": [
    "def make_rnn_train_test(df):   \n",
    "    '''This function splits dataset into train and test sets, \n",
    "    then train, valid and test tensors are created, they are \n",
    "    returned together with the input shape.''' \n",
    "\n",
    "    labels = df.Gender.values.astype(np.int)\n",
    "    features = df.Name\n",
    "\n",
    "    X_train, X_test, y_train, y_test = train_test_split(features, \n",
    "                                                        labels.reshape(-1, 1).ravel(), \n",
    "                                                        test_size = 0.3,\n",
    "                                                        stratify = labels)\n",
    "    \n",
    "    # Initialize character level tokenizer\n",
    "    tokenizer = Tokenizer(num_words=None, \n",
    "                   char_level=True, \n",
    "                   oov_token='UNK')\n",
    "\n",
    "    tokenizer.fit_on_texts(X_train)\n",
    "\n",
    "    X_train = tokenizer.texts_to_sequences(X_train)\n",
    "    X_test = tokenizer.texts_to_sequences(X_test)\n",
    "\n",
    "    X_train = pad_sequences(X_train, \n",
    "                            maxlen=30, \n",
    "                            padding='post')\n",
    "    X_test = pad_sequences(X_test, \n",
    "                           maxlen=30, \n",
    "                           padding='post')\n",
    "\n",
    "    rnn_ds_train_valid = tf.data.Dataset.from_tensor_slices((X_train, y_train))\n",
    "    rnn_ds_train = rnn_ds_train_valid.take(int(0.7 * np.shape(X_train)[0]))\n",
    "    rnn_ds_valid = rnn_ds_train_valid.skip(int(0.7 * np.shape(X_train)[0]))\n",
    "    rnn_ds_test = tf.data.Dataset.from_tensor_slices((X_test, y_test))\n",
    "\n",
    "    rnn_input_shape = np.shape(X_train)[1]\n",
    "    rnn_labels_true = y_test\n",
    "\n",
    "    return rnn_ds_train, rnn_ds_valid, rnn_ds_test, rnn_input_shape, rnn_labels_true"
   ]
  },
  {
   "cell_type": "code",
   "execution_count": 0,
   "metadata": {
    "colab": {},
    "colab_type": "code",
    "id": "E3R_Zpm8Sd7u"
   },
   "outputs": [],
   "source": [
    "rnn_train_orig, rnn_valid_orig, rnn_test, rnn_input_shape, rnn_labels_true = make_rnn_train_test(names)"
   ]
  },
  {
   "cell_type": "markdown",
   "metadata": {
    "colab_type": "text",
    "id": "Ns0yFW4Vx6bT"
   },
   "source": [
    "# Number of entries in training, validation and test sets."
   ]
  },
  {
   "cell_type": "code",
   "execution_count": 28,
   "metadata": {
    "colab": {
     "base_uri": "https://localhost:8080/",
     "height": 65
    },
    "colab_type": "code",
    "executionInfo": {
     "elapsed": 1556,
     "status": "ok",
     "timestamp": 1586127440842,
     "user": {
      "displayName": "Konstantin Lekomtsev",
      "photoUrl": "",
      "userId": "02021487482276961340"
     },
     "user_tz": 420
    },
    "id": "LsRbdN1BWzUu",
    "outputId": "cf46a1ec-970a-4fca-e4b2-ee7fa088357a"
   },
   "outputs": [
    {
     "name": "stdout",
     "output_type": "stream",
     "text": [
      "Number of training entries:  2462\n",
      "Number of validation entries:  1056\n",
      "Number of test entries:  1509\n"
     ]
    }
   ],
   "source": [
    "train_size = 0\n",
    "for example in rnn_train_orig:\n",
    "    train_size += 1\n",
    "print('Number of training entries: ', train_size)\n",
    "\n",
    "valid_size = 0\n",
    "for example in rnn_valid_orig:\n",
    "    valid_size += 1\n",
    "print('Number of validation entries: ',valid_size)\n",
    "\n",
    "test_size = 0\n",
    "for example in rnn_test:\n",
    "    test_size += 1\n",
    "print('Number of test entries: ',test_size)"
   ]
  },
  {
   "cell_type": "markdown",
   "metadata": {
    "colab_type": "text",
    "id": "LBa72TbxcW1I"
   },
   "source": [
    "# Function for fitting neural network model and plotting model's train-validation curves."
   ]
  },
  {
   "cell_type": "code",
   "execution_count": 0,
   "metadata": {
    "colab": {},
    "colab_type": "code",
    "id": "d6sngMsWWzU3"
   },
   "outputs": [],
   "source": [
    "def fitting_neural_network(model, batch, epochs, ds_train_orig, ds_valid_orig):\n",
    "    ''' This function shuffles the train and test sets,\n",
    "    takes a batch from each, then uses them to fit a \n",
    "    tensorflow model.'''\n",
    "    import numpy as np\n",
    "\n",
    "    num_epochs = epochs\n",
    "    batch_size = batch\n",
    "    steps_train = np.ceil(train_size / batch_size)\n",
    "    steps_valid = np.ceil(valid_size / batch_size)\n",
    "\n",
    "    ds_train = ds_train_orig.shuffle(buffer_size=train_size)\n",
    "    ds_train = ds_train.repeat()\n",
    "    ds_train = ds_train.batch(batch_size=batch_size)\n",
    "    ds_train = ds_train.prefetch(buffer_size=1000)\n",
    "\n",
    "    ds_valid = ds_valid_orig.shuffle(buffer_size=valid_size)\n",
    "    ds_valid = ds_valid.repeat()\n",
    "    ds_valid = ds_valid.batch(batch_size=batch_size)\n",
    "    ds_valid = ds_valid.prefetch(buffer_size=1000)\n",
    "\n",
    "    history = model.fit(ds_train, \n",
    "                        epochs=num_epochs, \n",
    "                        steps_per_epoch=steps_train, \n",
    "                        validation_data = ds_valid, \n",
    "                        validation_steps = steps_valid)\n",
    "    return history"
   ]
  },
  {
   "cell_type": "code",
   "execution_count": 0,
   "metadata": {
    "colab": {},
    "colab_type": "code",
    "id": "qBWjzWreWzU7"
   },
   "outputs": [],
   "source": [
    "def plot_train_valid(model_history):\n",
    "    '''This function plots training - validation history\n",
    "    of a tensorflow model.'''\n",
    "\n",
    "    hist = model_history.history\n",
    "    x_arr = np.arange(len(hist['loss'])) + 1\n",
    "\n",
    "    fig = plt.figure(figsize=(12, 4))\n",
    "    ax = fig.add_subplot(1, 2, 1)\n",
    "    ax.plot(x_arr, hist['loss'], '-o', label='Train loss')\n",
    "    ax.plot(x_arr, hist['val_loss'], '--<', label='Validation loss')\n",
    "    ax.legend(fontsize=15)\n",
    "    ax.set_xlabel('Epoch', size=15)\n",
    "    ax.set_ylabel('Loss', size=15)\n",
    "\n",
    "    ax = fig.add_subplot(1, 2, 2)\n",
    "    ax.plot(x_arr, hist['accuracy'], '-o', label='Train acc.')\n",
    "    ax.plot(x_arr, hist['val_accuracy'], '--<', label='Validation acc.')\n",
    "    ax.legend(fontsize=15)\n",
    "    ax.set_xlabel('Epoch', size=15)\n",
    "    ax.set_ylabel('Accuracy', size=15)\n",
    "\n",
    "    return plt.show()"
   ]
  },
  {
   "cell_type": "markdown",
   "metadata": {
    "colab_type": "text",
    "id": "4kQHtfUPWzUQ"
   },
   "source": [
    "# Multilayer perceptron"
   ]
  },
  {
   "cell_type": "code",
   "execution_count": 53,
   "metadata": {
    "colab": {
     "base_uri": "https://localhost:8080/",
     "height": 378
    },
    "colab_type": "code",
    "executionInfo": {
     "elapsed": 1470,
     "status": "ok",
     "timestamp": 1586127806221,
     "user": {
      "displayName": "Konstantin Lekomtsev",
      "photoUrl": "",
      "userId": "02021487482276961340"
     },
     "user_tz": 420
    },
    "id": "PjgW2PfvWzUx",
    "outputId": "6fc24721-a273-4a0d-a859-a8c727468630"
   },
   "outputs": [
    {
     "name": "stdout",
     "output_type": "stream",
     "text": [
      "Model: \"sequential\"\n",
      "_________________________________________________________________\n",
      "Layer (type)                 Output Shape              Param #   \n",
      "=================================================================\n",
      "fully_connected1 (Dense)     (None, 150)               390750    \n",
      "_________________________________________________________________\n",
      "dropout1 (Dropout)           (None, 150)               0         \n",
      "_________________________________________________________________\n",
      "fully_connected2 (Dense)     (None, 100)               15100     \n",
      "_________________________________________________________________\n",
      "dropout2 (Dropout)           (None, 100)               0         \n",
      "_________________________________________________________________\n",
      "fully_connected3 (Dense)     (None, 50)                5050      \n",
      "_________________________________________________________________\n",
      "dropout3 (Dropout)           (None, 50)                0         \n",
      "_________________________________________________________________\n",
      "output (Dense)               (None, 2)                 102       \n",
      "=================================================================\n",
      "Total params: 411,002\n",
      "Trainable params: 411,002\n",
      "Non-trainable params: 0\n",
      "_________________________________________________________________\n"
     ]
    }
   ],
   "source": [
    "K.clear_session()\n",
    "mlp_model = tf.keras.Sequential([\n",
    "    tf.keras.layers.Dense(150, \n",
    "                          activation='relu', \n",
    "                          name='fully_connected1', \n",
    "                          input_shape=(tfidf_input_shape,)),\n",
    "    tf.keras.layers.Dropout(rate = 0.9,\n",
    "                            name='dropout1'),\n",
    "    tf.keras.layers.Dense(100, \n",
    "                          activation='relu', \n",
    "                          name='fully_connected2'),\n",
    "    tf.keras.layers.Dropout(rate = 0.75,\n",
    "                            name='dropout2'),\n",
    "    tf.keras.layers.Dense(50, \n",
    "                          activation='relu', \n",
    "                          name='fully_connected3'),\n",
    "    tf.keras.layers.Dropout(rate = 0.75,\n",
    "                            name='dropout3'),\n",
    "    tf.keras.layers.Dense(2, \n",
    "                          name='output', \n",
    "                          activation='sigmoid')])\n",
    "\n",
    "mlp_model.summary()"
   ]
  },
  {
   "cell_type": "code",
   "execution_count": 0,
   "metadata": {
    "colab": {},
    "colab_type": "code",
    "id": "Kqoyn2sjWzU0"
   },
   "outputs": [],
   "source": [
    "mlp_model.compile(optimizer='adam',\n",
    "                  loss='sparse_categorical_crossentropy',\n",
    "                  metrics=['accuracy'])"
   ]
  },
  {
   "cell_type": "code",
   "execution_count": 55,
   "metadata": {
    "colab": {
     "base_uri": "https://localhost:8080/",
     "height": 345
    },
    "colab_type": "code",
    "executionInfo": {
     "elapsed": 20862,
     "status": "ok",
     "timestamp": 1586127832851,
     "user": {
      "displayName": "Konstantin Lekomtsev",
      "photoUrl": "",
      "userId": "02021487482276961340"
     },
     "user_tz": 420
    },
    "id": "xfZiuKggqhS7",
    "outputId": "0004dd6f-5a44-4e29-b8c3-b078ed2700c8"
   },
   "outputs": [
    {
     "name": "stdout",
     "output_type": "stream",
     "text": [
      "Epoch 1/10\n",
      "616/616 [==============================] - 2s 4ms/step - loss: 0.6939 - accuracy: 0.5264 - val_loss: 0.6912 - val_accuracy: 0.5322\n",
      "Epoch 2/10\n",
      "616/616 [==============================] - 2s 3ms/step - loss: 0.6908 - accuracy: 0.5126 - val_loss: 0.6913 - val_accuracy: 0.5805\n",
      "Epoch 3/10\n",
      "616/616 [==============================] - 2s 3ms/step - loss: 0.6902 - accuracy: 0.5390 - val_loss: 0.6893 - val_accuracy: 0.5653\n",
      "Epoch 4/10\n",
      "616/616 [==============================] - 2s 3ms/step - loss: 0.6857 - accuracy: 0.5499 - val_loss: 0.6866 - val_accuracy: 0.5833\n",
      "Epoch 5/10\n",
      "616/616 [==============================] - 2s 3ms/step - loss: 0.6725 - accuracy: 0.5856 - val_loss: 0.6747 - val_accuracy: 0.6127\n",
      "Epoch 6/10\n",
      "616/616 [==============================] - 2s 3ms/step - loss: 0.6652 - accuracy: 0.6226 - val_loss: 0.6817 - val_accuracy: 0.5511\n",
      "Epoch 7/10\n",
      "616/616 [==============================] - 2s 3ms/step - loss: 0.6459 - accuracy: 0.6510 - val_loss: 0.6634 - val_accuracy: 0.6042\n",
      "Epoch 8/10\n",
      "616/616 [==============================] - 2s 3ms/step - loss: 0.6357 - accuracy: 0.6473 - val_loss: 0.6637 - val_accuracy: 0.5871\n",
      "Epoch 9/10\n",
      "616/616 [==============================] - 2s 3ms/step - loss: 0.6143 - accuracy: 0.6782 - val_loss: 0.6493 - val_accuracy: 0.6136\n",
      "Epoch 10/10\n",
      "616/616 [==============================] - 2s 3ms/step - loss: 0.5997 - accuracy: 0.6932 - val_loss: 0.6513 - val_accuracy: 0.6089\n"
     ]
    }
   ],
   "source": [
    "mlp_hist = fitting_neural_network(mlp_model, \n",
    "                                  batch = 4, \n",
    "                                  epochs = 10, \n",
    "                                  ds_train_orig=tfidf_train_orig, \n",
    "                                  ds_valid_orig=tfidf_valid_orig)"
   ]
  },
  {
   "cell_type": "code",
   "execution_count": 56,
   "metadata": {
    "colab": {
     "base_uri": "https://localhost:8080/",
     "height": 284
    },
    "colab_type": "code",
    "executionInfo": {
     "elapsed": 1725,
     "status": "ok",
     "timestamp": 1586127837671,
     "user": {
      "displayName": "Konstantin Lekomtsev",
      "photoUrl": "",
      "userId": "02021487482276961340"
     },
     "user_tz": 420
    },
    "id": "-cOqF6nsvEFh",
    "outputId": "533078fb-357e-410e-8289-466fc52384df"
   },
   "outputs": [
    {
     "data": {
      "image/png": "[encoded data removed]",
      "text/plain": [
       "<Figure size 864x288 with 2 Axes>"
      ]
     },
     "metadata": {
      "tags": []
     },
     "output_type": "display_data"
    }
   ],
   "source": [
    "plot_train_valid(mlp_hist)"
   ]
  },
  {
   "cell_type": "markdown",
   "metadata": {
    "colab_type": "text",
    "id": "qMvfcUHDBdAy"
   },
   "source": [
    "# Evaluation on test data for multilayer perceptron."
   ]
  },
  {
   "cell_type": "markdown",
   "metadata": {
    "colab_type": "text",
    "id": "TLvhsKtfB1f1"
   },
   "source": [
    "**Accuracy.**"
   ]
  },
  {
   "cell_type": "code",
   "execution_count": 58,
   "metadata": {
    "colab": {
     "base_uri": "https://localhost:8080/",
     "height": 49
    },
    "colab_type": "code",
    "executionInfo": {
     "elapsed": 2710,
     "status": "ok",
     "timestamp": 1586127857217,
     "user": {
      "displayName": "Konstantin Lekomtsev",
      "photoUrl": "",
      "userId": "02021487482276961340"
     },
     "user_tz": 420
    },
    "id": "yS-tkEFdWzU-",
    "outputId": "8121b820-d280-47e4-9235-81173e4094b6"
   },
   "outputs": [
    {
     "name": "stdout",
     "output_type": "stream",
     "text": [
      "1/1 [==============================] - 0s 1ms/step - loss: 0.6254 - accuracy: 0.6600\n",
      "Test loss: 0.6254   Test Acc.: 0.6600\n"
     ]
    }
   ],
   "source": [
    "mlp_results = mlp_model.evaluate(tfidf_test.batch(test_size))\n",
    "print('Test loss: {:.4f}   Test Acc.: {:.4f}'.format(*mlp_results))"
   ]
  },
  {
   "cell_type": "markdown",
   "metadata": {
    "colab_type": "text",
    "id": "TTc82q9qB5IB"
   },
   "source": [
    "**Confusion matrix**"
   ]
  },
  {
   "cell_type": "code",
   "execution_count": 0,
   "metadata": {
    "colab": {},
    "colab_type": "code",
    "id": "jX58Vwz5nO10"
   },
   "outputs": [],
   "source": [
    "def conf_matrix_plot(confmat):\n",
    "    fig, ax = plt.subplots(figsize=(3, 3))\n",
    "    ax.matshow(confmat, cmap=plt.cm.Blues, alpha=0.3)\n",
    "    for i in range(confmat.shape[0]):\n",
    "        for j in range(confmat.shape[1]):\n",
    "            ax.text(x=j, \n",
    "                    y=i, \n",
    "                    s=confmat[i, j], \n",
    "                    va='center', \n",
    "                    ha='center', \n",
    "                    size = 14)\n",
    "\n",
    "    _ = plt.xlabel('predicted label', fontsize = 14)\n",
    "    _ = plt.ylabel('true label', fontsize = 14)\n",
    "    _ = plt.xticks(fontsize = 14)\n",
    "    _ = plt.yticks(fontsize = 14)\n",
    "    _ = plt.tight_layout()\n",
    "    return plt.show()"
   ]
  },
  {
   "cell_type": "code",
   "execution_count": 86,
   "metadata": {
    "colab": {
     "base_uri": "https://localhost:8080/",
     "height": 223
    },
    "colab_type": "code",
    "executionInfo": {
     "elapsed": 1445,
     "status": "ok",
     "timestamp": 1586128624081,
     "user": {
      "displayName": "Konstantin Lekomtsev",
      "photoUrl": "",
      "userId": "02021487482276961340"
     },
     "user_tz": 420
    },
    "id": "egTlRcr4_Yvj",
    "outputId": "a4c9c8c7-3e7a-4740-dbca-c694a1f1997c"
   },
   "outputs": [
    {
     "data": {
      "image/png": "[encoded data removed]",
      "text/plain": [
       "<Figure size 216x216 with 1 Axes>"
      ]
     },
     "metadata": {
      "tags": []
     },
     "output_type": "display_data"
    }
   ],
   "source": [
    "# Predicted labels\n",
    "mlp_y_pred = mlp_model.predict_classes(tfidf_test.batch(test_size))\n",
    "\n",
    "# Confusion matrix\n",
    "mlp_confmat = confusion_matrix(y_true=tfidf_labels_true, \n",
    "                               y_pred=mlp_y_pred)\n",
    "\n",
    "conf_matrix_plot(mlp_confmat)"
   ]
  },
  {
   "cell_type": "markdown",
   "metadata": {
    "colab_type": "text",
    "id": "nPuAAgIlB-Ry"
   },
   "source": [
    "**AUC score.**"
   ]
  },
  {
   "cell_type": "code",
   "execution_count": 77,
   "metadata": {
    "colab": {
     "base_uri": "https://localhost:8080/",
     "height": 32
    },
    "colab_type": "code",
    "executionInfo": {
     "elapsed": 631,
     "status": "ok",
     "timestamp": 1586128422602,
     "user": {
      "displayName": "Konstantin Lekomtsev",
      "photoUrl": "",
      "userId": "02021487482276961340"
     },
     "user_tz": 420
    },
    "id": "1wcQypnr_0Y8",
    "outputId": "a0d18811-a247-42b4-dc76-73e110ee78c0"
   },
   "outputs": [
    {
     "name": "stdout",
     "output_type": "stream",
     "text": [
      "AUC score for MLP on the test data: 0.7335657247615859\n"
     ]
    }
   ],
   "source": [
    "print('AUC score for MLP on the test data:', \n",
    "      roc_auc_score(y_true = tfidf_labels_true, \n",
    "                    y_score = mlp_model.predict(tfidf_test.batch(test_size))[:,1]))"
   ]
  },
  {
   "cell_type": "markdown",
   "metadata": {
    "colab_type": "text",
    "id": "bj2FXWTxCBQY"
   },
   "source": [
    "**Classification report.**"
   ]
  },
  {
   "cell_type": "code",
   "execution_count": 79,
   "metadata": {
    "colab": {
     "base_uri": "https://localhost:8080/",
     "height": 164
    },
    "colab_type": "code",
    "executionInfo": {
     "elapsed": 1730,
     "status": "ok",
     "timestamp": 1586128436003,
     "user": {
      "displayName": "Konstantin Lekomtsev",
      "photoUrl": "",
      "userId": "02021487482276961340"
     },
     "user_tz": 420
    },
    "id": "0O0QYw0PAcqk",
    "outputId": "6c0733f7-38b2-43c6-8037-f52638b99dc1"
   },
   "outputs": [
    {
     "name": "stdout",
     "output_type": "stream",
     "text": [
      "              precision    recall  f1-score   support\n",
      "\n",
      "        male       0.77      0.51      0.61       799\n",
      "      female       0.60      0.83      0.70       710\n",
      "\n",
      "    accuracy                           0.66      1509\n",
      "   macro avg       0.69      0.67      0.66      1509\n",
      "weighted avg       0.69      0.66      0.65      1509\n",
      "\n"
     ]
    }
   ],
   "source": [
    "print(classification_report(tfidf_labels_true, \n",
    "                            mlp_y_pred, \n",
    "                            target_names=['male', 'female']))"
   ]
  },
  {
   "cell_type": "markdown",
   "metadata": {
    "colab_type": "text",
    "id": "aGZHWuZ-VRXQ"
   },
   "source": [
    "# Bidirectional LSTM network.\n",
    "\n",
    "\n",
    "\n"
   ]
  },
  {
   "cell_type": "code",
   "execution_count": 81,
   "metadata": {
    "colab": {
     "base_uri": "https://localhost:8080/",
     "height": 247
    },
    "colab_type": "code",
    "executionInfo": {
     "elapsed": 1641,
     "status": "ok",
     "timestamp": 1586128521001,
     "user": {
      "displayName": "Konstantin Lekomtsev",
      "photoUrl": "",
      "userId": "02021487482276961340"
     },
     "user_tz": 420
    },
    "id": "b28cYdK8_EKW",
    "outputId": "c65f1417-45cc-494a-a2e0-812981cb6ea5"
   },
   "outputs": [
    {
     "name": "stdout",
     "output_type": "stream",
     "text": [
      "Model: \"sequential\"\n",
      "_________________________________________________________________\n",
      "Layer (type)                 Output Shape              Param #   \n",
      "=================================================================\n",
      "embed-layer (Embedding)      (None, None, 30)          960       \n",
      "_________________________________________________________________\n",
      "bidirectional (Bidirectional (None, 300)               217200    \n",
      "_________________________________________________________________\n",
      "output (Dense)               (None, 2)                 602       \n",
      "=================================================================\n",
      "Total params: 218,762\n",
      "Trainable params: 218,762\n",
      "Non-trainable params: 0\n",
      "_________________________________________________________________\n"
     ]
    }
   ],
   "source": [
    "K.clear_session()\n",
    "embedding_dim = rnn_input_shape\n",
    "vocab_size = rnn_input_shape + 2\n",
    "\n",
    "bi_lstm_model = tf.keras.Sequential([\n",
    "    tf.keras.layers.Embedding(input_dim=vocab_size,\n",
    "                              output_dim=embedding_dim,\n",
    "                              name='embed-layer'),\n",
    "    \n",
    "    tf.keras.layers.Bidirectional(\n",
    "        tf.keras.layers.LSTM(150)), \n",
    "    \n",
    "    tf.keras.layers.Dense(2, \n",
    "                          activation = 'softmax',\n",
    "                          name = 'output')\n",
    "])\n",
    "\n",
    "bi_lstm_model.summary()"
   ]
  },
  {
   "cell_type": "code",
   "execution_count": 0,
   "metadata": {
    "colab": {},
    "colab_type": "code",
    "id": "EfOXPmxj-6bc"
   },
   "outputs": [],
   "source": [
    "bi_lstm_model.compile(optimizer='adam',\n",
    "                      loss='sparse_categorical_crossentropy',\n",
    "                      metrics=['accuracy'])"
   ]
  },
  {
   "cell_type": "code",
   "execution_count": 83,
   "metadata": {
    "colab": {
     "base_uri": "https://localhost:8080/",
     "height": 345
    },
    "colab_type": "code",
    "executionInfo": {
     "elapsed": 31425,
     "status": "ok",
     "timestamp": 1586128559410,
     "user": {
      "displayName": "Konstantin Lekomtsev",
      "photoUrl": "",
      "userId": "02021487482276961340"
     },
     "user_tz": 420
    },
    "id": "jBbmJvsDED37",
    "outputId": "094d2cdf-1f68-4bc7-f9fd-814aa2cff073"
   },
   "outputs": [
    {
     "name": "stdout",
     "output_type": "stream",
     "text": [
      "Epoch 1/10\n",
      "308/308 [==============================] - 3s 10ms/step - loss: 0.6370 - accuracy: 0.6315 - val_loss: 0.5864 - val_accuracy: 0.7576\n",
      "Epoch 2/10\n",
      "308/308 [==============================] - 2s 8ms/step - loss: 0.5253 - accuracy: 0.7642 - val_loss: 0.4930 - val_accuracy: 0.8097\n",
      "Epoch 3/10\n",
      "308/308 [==============================] - 2s 8ms/step - loss: 0.4462 - accuracy: 0.8145 - val_loss: 0.4243 - val_accuracy: 0.8333\n",
      "Epoch 4/10\n",
      "308/308 [==============================] - 2s 8ms/step - loss: 0.4090 - accuracy: 0.8364 - val_loss: 0.4056 - val_accuracy: 0.8381\n",
      "Epoch 5/10\n",
      "308/308 [==============================] - 2s 8ms/step - loss: 0.3884 - accuracy: 0.8438 - val_loss: 0.3911 - val_accuracy: 0.8352\n",
      "Epoch 6/10\n",
      "308/308 [==============================] - 2s 8ms/step - loss: 0.3803 - accuracy: 0.8421 - val_loss: 0.4002 - val_accuracy: 0.8409\n",
      "Epoch 7/10\n",
      "308/308 [==============================] - 2s 8ms/step - loss: 0.3826 - accuracy: 0.8458 - val_loss: 0.3754 - val_accuracy: 0.8447\n",
      "Epoch 8/10\n",
      "308/308 [==============================] - 2s 8ms/step - loss: 0.3771 - accuracy: 0.8486 - val_loss: 0.3874 - val_accuracy: 0.8409\n",
      "Epoch 9/10\n",
      "308/308 [==============================] - 2s 8ms/step - loss: 0.3725 - accuracy: 0.8454 - val_loss: 0.3758 - val_accuracy: 0.8475\n",
      "Epoch 10/10\n",
      "308/308 [==============================] - 2s 8ms/step - loss: 0.3701 - accuracy: 0.8506 - val_loss: 0.3678 - val_accuracy: 0.8456\n"
     ]
    }
   ],
   "source": [
    "bi_lstm_hist = fitting_neural_network(bi_lstm_model, \n",
    "                                      batch=8, \n",
    "                                      epochs=10, \n",
    "                                      ds_train_orig=rnn_train_orig, \n",
    "                                      ds_valid_orig=rnn_valid_orig)"
   ]
  },
  {
   "cell_type": "code",
   "execution_count": 84,
   "metadata": {
    "colab": {
     "base_uri": "https://localhost:8080/",
     "height": 287
    },
    "colab_type": "code",
    "executionInfo": {
     "elapsed": 1703,
     "status": "ok",
     "timestamp": 1586128563608,
     "user": {
      "displayName": "Konstantin Lekomtsev",
      "photoUrl": "",
      "userId": "02021487482276961340"
     },
     "user_tz": 420
    },
    "id": "Eh9MJV2gBCG_",
    "outputId": "2e597652-5495-4288-e94c-0e4810779bb0"
   },
   "outputs": [
    {
     "data": {
      "image/png": "[encoded data removed]",
      "text/plain": [
       "<Figure size 864x288 with 2 Axes>"
      ]
     },
     "metadata": {
      "tags": []
     },
     "output_type": "display_data"
    }
   ],
   "source": [
    "plot_train_valid(bi_lstm_hist)"
   ]
  },
  {
   "cell_type": "markdown",
   "metadata": {
    "colab_type": "text",
    "id": "bCfFJ8ItC_fk"
   },
   "source": [
    "# Evaluation on test data for bidirectional LSTM."
   ]
  },
  {
   "cell_type": "markdown",
   "metadata": {
    "colab_type": "text",
    "id": "Y_59Q5jUDGeW"
   },
   "source": [
    "**Accuracy.**"
   ]
  },
  {
   "cell_type": "code",
   "execution_count": 85,
   "metadata": {
    "colab": {
     "base_uri": "https://localhost:8080/",
     "height": 49
    },
    "colab_type": "code",
    "executionInfo": {
     "elapsed": 1527,
     "status": "ok",
     "timestamp": 1586128573943,
     "user": {
      "displayName": "Konstantin Lekomtsev",
      "photoUrl": "",
      "userId": "02021487482276961340"
     },
     "user_tz": 420
    },
    "id": "Tu4dljZLHLea",
    "outputId": "28aff8de-d825-4857-8ee4-ec14d66ecac1"
   },
   "outputs": [
    {
     "name": "stdout",
     "output_type": "stream",
     "text": [
      "1/1 [==============================] - 0s 1ms/step - loss: 0.3965 - accuracy: 0.8403\n",
      "Test loss: 0.3965   Test Acc.: 0.8403\n"
     ]
    }
   ],
   "source": [
    "bi_lstm_results = bi_lstm_model.evaluate(rnn_test.batch(test_size))\n",
    "print('Test loss: {:.4f}   Test Acc.: {:.4f}'.format(*bi_lstm_results))"
   ]
  },
  {
   "cell_type": "markdown",
   "metadata": {
    "colab_type": "text",
    "id": "WpnRLK-sEc7r"
   },
   "source": [
    "**Confusion matrix.**"
   ]
  },
  {
   "cell_type": "code",
   "execution_count": 88,
   "metadata": {
    "colab": {
     "base_uri": "https://localhost:8080/",
     "height": 223
    },
    "colab_type": "code",
    "executionInfo": {
     "elapsed": 1578,
     "status": "ok",
     "timestamp": 1586128661602,
     "user": {
      "displayName": "Konstantin Lekomtsev",
      "photoUrl": "",
      "userId": "02021487482276961340"
     },
     "user_tz": 420
    },
    "id": "elbza0xE0CBC",
    "outputId": "1a2ae52a-5843-463a-ec01-d0ddcbf9dce3"
   },
   "outputs": [
    {
     "data": {
      "image/png": "[encoded data removed]",
      "text/plain": [
       "<Figure size 216x216 with 1 Axes>"
      ]
     },
     "metadata": {
      "tags": []
     },
     "output_type": "display_data"
    }
   ],
   "source": [
    "# Predicted labels\n",
    "bi_lstm_y_pred = bi_lstm_model.predict_classes(rnn_test.batch(test_size))\n",
    "bi_lstm_confmat = confusion_matrix(y_true=rnn_labels_true, \n",
    "                                   y_pred=bi_lstm_y_pred)\n",
    "\n",
    "conf_matrix_plot(bi_lstm_confmat)"
   ]
  },
  {
   "cell_type": "markdown",
   "metadata": {
    "colab_type": "text",
    "id": "_GwZB9maEyfx"
   },
   "source": [
    "**AUC score.**"
   ]
  },
  {
   "cell_type": "code",
   "execution_count": 90,
   "metadata": {
    "colab": {
     "base_uri": "https://localhost:8080/",
     "height": 32
    },
    "colab_type": "code",
    "executionInfo": {
     "elapsed": 708,
     "status": "ok",
     "timestamp": 1586128693071,
     "user": {
      "displayName": "Konstantin Lekomtsev",
      "photoUrl": "",
      "userId": "02021487482276961340"
     },
     "user_tz": 420
    },
    "id": "xe7ofRUW5KKq",
    "outputId": "5329c14e-b34c-412a-c629-040506e0b394"
   },
   "outputs": [
    {
     "name": "stdout",
     "output_type": "stream",
     "text": [
      "AUC score for LSTM network on the test data: 0.8993001815649844\n"
     ]
    }
   ],
   "source": [
    "print('AUC score for LSTM network on the test data:', \n",
    "      roc_auc_score(y_true = rnn_labels_true, \n",
    "                    y_score = bi_lstm_model.predict(rnn_test.batch(test_size))[:,1]))"
   ]
  },
  {
   "cell_type": "markdown",
   "metadata": {
    "colab_type": "text",
    "id": "GZeGwo5FFgiL"
   },
   "source": [
    "**Classification report.**"
   ]
  },
  {
   "cell_type": "code",
   "execution_count": 92,
   "metadata": {
    "colab": {
     "base_uri": "https://localhost:8080/",
     "height": 164
    },
    "colab_type": "code",
    "executionInfo": {
     "elapsed": 1989,
     "status": "ok",
     "timestamp": 1586128709023,
     "user": {
      "displayName": "Konstantin Lekomtsev",
      "photoUrl": "",
      "userId": "02021487482276961340"
     },
     "user_tz": 420
    },
    "id": "TRd_A7xTFfP5",
    "outputId": "74e5a1da-0c84-4bc4-d0a9-b5475b212db2"
   },
   "outputs": [
    {
     "name": "stdout",
     "output_type": "stream",
     "text": [
      "              precision    recall  f1-score   support\n",
      "\n",
      "        male       0.85      0.84      0.85       799\n",
      "      female       0.83      0.84      0.83       710\n",
      "\n",
      "    accuracy                           0.84      1509\n",
      "   macro avg       0.84      0.84      0.84      1509\n",
      "weighted avg       0.84      0.84      0.84      1509\n",
      "\n"
     ]
    }
   ],
   "source": [
    "print(classification_report(rnn_labels_true, \n",
    "                            bi_lstm_y_pred, \n",
    "                            target_names=['male', 'female']))"
   ]
  },
  {
   "cell_type": "markdown",
   "metadata": {
    "colab_type": "text",
    "id": "cwOEN3HQ0_bD"
   },
   "source": [
    "# Multiple bidirectional LSTMs with dropout layers."
   ]
  },
  {
   "cell_type": "code",
   "execution_count": 94,
   "metadata": {
    "colab": {
     "base_uri": "https://localhost:8080/",
     "height": 428
    },
    "colab_type": "code",
    "executionInfo": {
     "elapsed": 1780,
     "status": "ok",
     "timestamp": 1586129019204,
     "user": {
      "displayName": "Konstantin Lekomtsev",
      "photoUrl": "",
      "userId": "02021487482276961340"
     },
     "user_tz": 420
    },
    "id": "NGrx-i3M0-2Q",
    "outputId": "a2908af4-ce00-4375-e4a0-20ed520cb408"
   },
   "outputs": [
    {
     "name": "stdout",
     "output_type": "stream",
     "text": [
      "Model: \"sequential\"\n",
      "_________________________________________________________________\n",
      "Layer (type)                 Output Shape              Param #   \n",
      "=================================================================\n",
      "embedding (Embedding)        (None, None, 30)          960       \n",
      "_________________________________________________________________\n",
      "dense (Dense)                (None, None, 100)         3100      \n",
      "_________________________________________________________________\n",
      "dropout (Dropout)            (None, None, 100)         0         \n",
      "_________________________________________________________________\n",
      "bidirectional (Bidirectional (None, None, 200)         160800    \n",
      "_________________________________________________________________\n",
      "dropout_1 (Dropout)          (None, None, 200)         0         \n",
      "_________________________________________________________________\n",
      "bidirectional_1 (Bidirection (None, 200)               240800    \n",
      "_________________________________________________________________\n",
      "dropout_2 (Dropout)          (None, 200)               0         \n",
      "_________________________________________________________________\n",
      "dense_1 (Dense)              (None, 2)                 402       \n",
      "=================================================================\n",
      "Total params: 406,062\n",
      "Trainable params: 406,062\n",
      "Non-trainable params: 0\n",
      "_________________________________________________________________\n",
      "None\n"
     ]
    }
   ],
   "source": [
    "K.clear_session()\n",
    "\n",
    "model_multiple_lstms = tf.keras.Sequential([\n",
    "    tf.keras.layers.Embedding(input_dim=rnn_input_shape + 2,\n",
    "                              output_dim=rnn_input_shape),\n",
    "    tf.keras.layers.Dense(100,\n",
    "                          input_shape=(embedding_dim,)),\n",
    "    tf.keras.layers.Dropout(0.3),\n",
    "    tf.keras.layers.Bidirectional(\n",
    "        tf.keras.layers.LSTM(100, \n",
    "                             return_sequences=True)),\n",
    "    tf.keras.layers.Dropout(0.2),\n",
    "    tf.keras.layers.Bidirectional(\n",
    "        tf.keras.layers.LSTM(100,\n",
    "                             return_sequences=False)),\n",
    "    tf.keras.layers.Dropout(0.1),\n",
    "    tf.keras.layers.Dense(2, \n",
    "                          activation='softmax')\n",
    "])\n",
    "\n",
    "print(model_multiple_lstms.summary())"
   ]
  },
  {
   "cell_type": "code",
   "execution_count": 0,
   "metadata": {
    "colab": {},
    "colab_type": "code",
    "id": "CMBAc3W7U7Uo"
   },
   "outputs": [],
   "source": [
    "model_multiple_lstms.compile(loss='sparse_categorical_crossentropy',\n",
    "                             optimizer='adam',\n",
    "                             metrics=['accuracy'])"
   ]
  },
  {
   "cell_type": "code",
   "execution_count": 96,
   "metadata": {
    "colab": {
     "base_uri": "https://localhost:8080/",
     "height": 345
    },
    "colab_type": "code",
    "executionInfo": {
     "elapsed": 46779,
     "status": "ok",
     "timestamp": 1586129077784,
     "user": {
      "displayName": "Konstantin Lekomtsev",
      "photoUrl": "",
      "userId": "02021487482276961340"
     },
     "user_tz": 420
    },
    "id": "pbhnIgWy6aMK",
    "outputId": "bec131cb-1414-41c0-8052-5135051d61a5"
   },
   "outputs": [
    {
     "name": "stdout",
     "output_type": "stream",
     "text": [
      "Epoch 1/10\n",
      "308/308 [==============================] - 5s 16ms/step - loss: 0.6471 - accuracy: 0.6128 - val_loss: 0.5148 - val_accuracy: 0.7746\n",
      "Epoch 2/10\n",
      "308/308 [==============================] - 4s 13ms/step - loss: 0.4804 - accuracy: 0.7898 - val_loss: 0.4333 - val_accuracy: 0.8229\n",
      "Epoch 3/10\n",
      "308/308 [==============================] - 4s 13ms/step - loss: 0.4161 - accuracy: 0.8332 - val_loss: 0.3864 - val_accuracy: 0.8485\n",
      "Epoch 4/10\n",
      "308/308 [==============================] - 4s 13ms/step - loss: 0.4010 - accuracy: 0.8433 - val_loss: 0.3846 - val_accuracy: 0.8551\n",
      "Epoch 5/10\n",
      "308/308 [==============================] - 4s 13ms/step - loss: 0.4048 - accuracy: 0.8385 - val_loss: 0.3943 - val_accuracy: 0.8475\n",
      "Epoch 6/10\n",
      "308/308 [==============================] - 4s 13ms/step - loss: 0.3945 - accuracy: 0.8425 - val_loss: 0.3812 - val_accuracy: 0.8447\n",
      "Epoch 7/10\n",
      "308/308 [==============================] - 4s 13ms/step - loss: 0.3898 - accuracy: 0.8397 - val_loss: 0.3826 - val_accuracy: 0.8504\n",
      "Epoch 8/10\n",
      "308/308 [==============================] - 4s 13ms/step - loss: 0.3797 - accuracy: 0.8478 - val_loss: 0.3982 - val_accuracy: 0.8551\n",
      "Epoch 9/10\n",
      "308/308 [==============================] - 4s 13ms/step - loss: 0.3749 - accuracy: 0.8450 - val_loss: 0.3961 - val_accuracy: 0.8589\n",
      "Epoch 10/10\n",
      "308/308 [==============================] - 4s 13ms/step - loss: 0.3714 - accuracy: 0.8458 - val_loss: 0.3821 - val_accuracy: 0.8561\n"
     ]
    }
   ],
   "source": [
    "model_multiple_lstms_hist = fitting_neural_network(model_multiple_lstms, \n",
    "                                                   batch=8, \n",
    "                                                   epochs=10, \n",
    "                                                   ds_train_orig=rnn_train_orig, \n",
    "                                                   ds_valid_orig=rnn_valid_orig)"
   ]
  },
  {
   "cell_type": "code",
   "execution_count": 97,
   "metadata": {
    "colab": {
     "base_uri": "https://localhost:8080/",
     "height": 282
    },
    "colab_type": "code",
    "executionInfo": {
     "elapsed": 1767,
     "status": "ok",
     "timestamp": 1586129156395,
     "user": {
      "displayName": "Konstantin Lekomtsev",
      "photoUrl": "",
      "userId": "02021487482276961340"
     },
     "user_tz": 420
    },
    "id": "Fq5MI8iX6mU5",
    "outputId": "530880e3-8465-4648-a3eb-a26d8c7382b1"
   },
   "outputs": [
    {
     "data": {
      "image/png": "[encoded data removed]",
      "text/plain": [
       "<Figure size 864x288 with 2 Axes>"
      ]
     },
     "metadata": {
      "tags": []
     },
     "output_type": "display_data"
    }
   ],
   "source": [
    "plot_train_valid(model_multiple_lstms_hist)"
   ]
  },
  {
   "cell_type": "markdown",
   "metadata": {
    "colab_type": "text",
    "id": "8NMGF7XMquOv"
   },
   "source": [
    "# Evaluation on test data for network with multiple LSTMs with dropout layers."
   ]
  },
  {
   "cell_type": "code",
   "execution_count": 98,
   "metadata": {
    "colab": {
     "base_uri": "https://localhost:8080/",
     "height": 49
    },
    "colab_type": "code",
    "executionInfo": {
     "elapsed": 755,
     "status": "ok",
     "timestamp": 1586129226268,
     "user": {
      "displayName": "Konstantin Lekomtsev",
      "photoUrl": "",
      "userId": "02021487482276961340"
     },
     "user_tz": 420
    },
    "id": "shXWAeTLnKm2",
    "outputId": "5ae0c7c2-7035-455b-f2ec-0f0f11e446d0"
   },
   "outputs": [
    {
     "name": "stdout",
     "output_type": "stream",
     "text": [
      "1/1 [==============================] - 0s 1ms/step - loss: 0.4242 - accuracy: 0.8423\n",
      "Test loss: 0.4242   Test Acc.: 0.8423\n"
     ]
    }
   ],
   "source": [
    "# evaluate model on the test data\n",
    "model_multiple_lstms_results = model_multiple_lstms.evaluate(rnn_test.batch(test_size))\n",
    "print('Test loss: {:.4f}   Test Acc.: {:.4f}'.format(*model_multiple_lstms_results))"
   ]
  },
  {
   "cell_type": "markdown",
   "metadata": {
    "colab_type": "text",
    "id": "wpEPJADdq5d6"
   },
   "source": [
    "**Confusion matrix**"
   ]
  },
  {
   "cell_type": "code",
   "execution_count": 100,
   "metadata": {
    "colab": {
     "base_uri": "https://localhost:8080/",
     "height": 223
    },
    "colab_type": "code",
    "executionInfo": {
     "elapsed": 554,
     "status": "ok",
     "timestamp": 1586129517910,
     "user": {
      "displayName": "Konstantin Lekomtsev",
      "photoUrl": "",
      "userId": "02021487482276961340"
     },
     "user_tz": 420
    },
    "id": "M-eiPDXtmYX4",
    "outputId": "bd6e6b08-6cdd-4392-a7f6-b94b1a5137eb"
   },
   "outputs": [
    {
     "data": {
      "image/png": "[encoded data removed]",
      "text/plain": [
       "<Figure size 216x216 with 1 Axes>"
      ]
     },
     "metadata": {
      "tags": []
     },
     "output_type": "display_data"
    }
   ],
   "source": [
    "# Predicted labels\n",
    "mult_lstm_y_pred = model_multiple_lstms.predict_classes(rnn_test.batch(test_size))\n",
    "mult_lstm_confmat = confusion_matrix(y_true=rnn_labels_true, \n",
    "                                     y_pred=mult_lstm_y_pred)\n",
    "\n",
    "conf_matrix_plot(mult_lstm_confmat)"
   ]
  },
  {
   "cell_type": "markdown",
   "metadata": {
    "colab_type": "text",
    "id": "P54UraIAsB9X"
   },
   "source": [
    "**AUC score.**"
   ]
  },
  {
   "cell_type": "code",
   "execution_count": 101,
   "metadata": {
    "colab": {
     "base_uri": "https://localhost:8080/",
     "height": 32
    },
    "colab_type": "code",
    "executionInfo": {
     "elapsed": 1491,
     "status": "ok",
     "timestamp": 1586129618790,
     "user": {
      "displayName": "Konstantin Lekomtsev",
      "photoUrl": "",
      "userId": "02021487482276961340"
     },
     "user_tz": 420
    },
    "id": "MQLnWpTQr6RS",
    "outputId": "bd50e016-5808-47d8-f590-1eccfd9a57c3"
   },
   "outputs": [
    {
     "name": "stdout",
     "output_type": "stream",
     "text": [
      "AUC score for the network with multiple LSTMS and dropout layers on the test data: 0.895670644643833\n"
     ]
    }
   ],
   "source": [
    "print('AUC score for the network with multiple LSTMS and dropout layers on the test data:', \n",
    "      roc_auc_score(y_true = rnn_labels_true, \n",
    "                    y_score = model_multiple_lstms.predict(rnn_test.batch(test_size))[:,1]))"
   ]
  },
  {
   "cell_type": "markdown",
   "metadata": {
    "colab_type": "text",
    "id": "nqfJh8z4sXB1"
   },
   "source": [
    "**Classiifcation report.**"
   ]
  },
  {
   "cell_type": "code",
   "execution_count": 102,
   "metadata": {
    "colab": {
     "base_uri": "https://localhost:8080/",
     "height": 164
    },
    "colab_type": "code",
    "executionInfo": {
     "elapsed": 1416,
     "status": "ok",
     "timestamp": 1586129672324,
     "user": {
      "displayName": "Konstantin Lekomtsev",
      "photoUrl": "",
      "userId": "02021487482276961340"
     },
     "user_tz": 420
    },
    "id": "lIuKn7dMsUCL",
    "outputId": "b31a02c1-0af1-4230-bf00-51b6525a6d81"
   },
   "outputs": [
    {
     "name": "stdout",
     "output_type": "stream",
     "text": [
      "              precision    recall  f1-score   support\n",
      "\n",
      "        male       0.88      0.81      0.85       799\n",
      "      female       0.81      0.87      0.84       710\n",
      "\n",
      "    accuracy                           0.84      1509\n",
      "   macro avg       0.84      0.84      0.84      1509\n",
      "weighted avg       0.85      0.84      0.84      1509\n",
      "\n"
     ]
    }
   ],
   "source": [
    "print(classification_report(rnn_labels_true, \n",
    "                            mult_lstm_y_pred, \n",
    "                            target_names=['male', 'female']))"
   ]
  },
  {
   "cell_type": "code",
   "execution_count": 0,
   "metadata": {
    "colab": {},
    "colab_type": "code",
    "id": "tTRZeBLHshHp"
   },
   "outputs": [],
   "source": []
  }
 ],
 "metadata": {
  "accelerator": "GPU",
  "colab": {
   "name": "gender_classification.ipynb",
   "provenance": []
  },
  "kernelspec": {
   "display_name": "Python 3",
   "language": "python",
   "name": "python3"
  },
  "language_info": {
   "codemirror_mode": {
    "name": "ipython",
    "version": 3
   },
   "file_extension": ".py",
   "mimetype": "text/x-python",
   "name": "python",
   "nbconvert_exporter": "python",
   "pygments_lexer": "ipython3",
   "version": "3.7.4"
  }
 },
 "nbformat": 4,
 "nbformat_minor": 1
}
